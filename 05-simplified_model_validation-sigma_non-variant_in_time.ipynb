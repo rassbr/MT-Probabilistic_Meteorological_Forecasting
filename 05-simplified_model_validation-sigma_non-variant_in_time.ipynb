{
 "cells": [
  {
   "cell_type": "markdown",
   "metadata": {},
   "source": [
    "# Importing modules"
   ]
  },
  {
   "cell_type": "code",
   "execution_count": 4,
   "metadata": {},
   "outputs": [],
   "source": [
    "import numpy as np\n",
    "import time\n",
    "import matplotlib.pyplot as plt\n",
    "plt.style.use('fivethirtyeight')\n",
    "import pandas as pd\n",
    "from scipy.stats.kde import gaussian_kde\n",
    "from scipy.stats import norm\n",
    "from sklearn.preprocessing import normalize\n",
    "import properscoring as ps"
   ]
  },
  {
   "cell_type": "markdown",
   "metadata": {},
   "source": [
    "# Constructing Sigma Matrix"
   ]
  },
  {
   "cell_type": "code",
   "execution_count": 5,
   "metadata": {},
   "outputs": [],
   "source": [
    "# defining parameter to be considered\n",
    "param = 'Wy'"
   ]
  },
  {
   "cell_type": "code",
   "execution_count": 6,
   "metadata": {},
   "outputs": [
    {
     "name": "stdout",
     "output_type": "stream",
     "text": [
      "data/Wind_UVT-level_20000-NForc_006-May.npz\n"
     ]
    }
   ],
   "source": [
    "#load or save the file with the forecast (+6 hours)\n",
    "file_save = ('Wind_UVT-level_20000-NForc_006-May')\n",
    "directory = 'data/'\n",
    "filename = directory + file_save + '.npz'\n",
    "print(filename)\n",
    "data = np.load(filename)\n",
    "Wx_2 = data[param]\n",
    "time_2 = data['vec_time']\n",
    "hour_2 = data['delta_hours']\n",
    "data.close()"
   ]
  },
  {
   "cell_type": "code",
   "execution_count": 7,
   "metadata": {},
   "outputs": [],
   "source": [
    "#because the downloaded data had a problem when being parsed\n",
    "time_2 = time_2[:-1]"
   ]
  },
  {
   "cell_type": "code",
   "execution_count": 8,
   "metadata": {},
   "outputs": [],
   "source": [
    "#defining the mean of all the sigmas \n",
    "sigma_mean = np.mean(np.std(Wx_2,3),2)"
   ]
  },
  {
   "cell_type": "code",
   "execution_count": 10,
   "metadata": {},
   "outputs": [
    {
     "name": "stdout",
     "output_type": "stream",
     "text": [
      "data/sigma_mean_Wy.npz\n"
     ]
    }
   ],
   "source": [
    "#load or save the file with the values of sigma_mean for each latitude and longitude\n",
    "file_save = 'sigma_mean_' + param\n",
    "directory = 'data/'\n",
    "filename = directory + file_save + '.npz'\n",
    "np.savez(filename, sigma_mean = sigma_mean)\n",
    "#data = np.load(filename)\n",
    "#sigma_mean = data['sigma_mean']\n",
    "print(filename)\n",
    "data.close()"
   ]
  },
  {
   "cell_type": "markdown",
   "metadata": {},
   "source": [
    "# Sigma validation"
   ]
  },
  {
   "cell_type": "markdown",
   "metadata": {},
   "source": [
    "## {Wx, data points: 12510720, 192 data steps, $\\sigma$ estimated in 124 time steps.}"
   ]
  },
  {
   "cell_type": "code",
   "execution_count": 12,
   "metadata": {},
   "outputs": [],
   "source": [
    "#load or save the file with the observed data\n",
    "file_save = '2018_0456-Wind_UVT-level_20000-1Forc_000'\n",
    "directory = 'data/'\n",
    "filename = directory + file_save + '.npz'\n",
    "#np.savez(filename, Wx_alpha = Wx_15min)\n",
    "#print(filename)\n",
    "data = np.load(filename)\n",
    "Wx_0 = data[param]\n",
    "time_0 = data['vec_time']\n",
    "hour_0 = data['delta_hours']\n",
    "data.close()"
   ]
  },
  {
   "cell_type": "code",
   "execution_count": 13,
   "metadata": {},
   "outputs": [],
   "source": [
    "#load or save the file with the forecasted data\n",
    "file_save = '2018_0456-Wind_UVT-level_20000-1Forc_006'\n",
    "directory = 'data/'\n",
    "filename = directory + file_save + '.npz'\n",
    "#np.savez(filename, Wx_alpha = Wx_15min)\n",
    "#print(filename)\n",
    "data = np.load(filename)\n",
    "Wx_1 = data[param]\n",
    "time_1 = data['vec_time']\n",
    "hour_1 = data['delta_hours']\n",
    "data.close()"
   ]
  },
  {
   "cell_type": "code",
   "execution_count": null,
   "metadata": {},
   "outputs": [],
   "source": [
    "#Chooses the data so they will be in the same time_step\n",
    "time0 = []\n",
    "ii = []\n",
    "jj = []\n",
    "for i in range(len(time_0)):\n",
    "    for j in range(len(time_1)):\n",
    "        if time_0[i] == time_1[j]:\n",
    "            time0 += [time_0[i]]\n",
    "            ii += [i]\n",
    "            jj += [j]\n",
    "\n",
    "tim_0 = time_0[ii]\n",
    "tim_1 = time_1[jj]\n",
    "Wx_0 = Wx_0[:,:,ii]\n",
    "Wx_1 = Wx_1[:,:,jj]\n",
    "delta_hours = (tim_0[1:] - tim_1[:-1])\n",
    "n = len(delta_hours)\n",
    "dhour = np.zeros([n,1])\n",
    "for i in range(0,n):\n",
    "    dhour[i] = delta_hours[i].total_seconds()/3600"
   ]
  },
  {
   "cell_type": "code",
   "execution_count": null,
   "metadata": {},
   "outputs": [],
   "source": [
    "#73 - 197 covers the same dates as the ones used to calculate sigma\n",
    "\n",
    "Result0 = []\n",
    "for i in range(73):\n",
    "    Result0 += [ps.crps_gaussian(Wx_0[:,:,i], mu=Wx_1[:,:,i], sig=sigma_mean)]\n",
    "for i in range(197,len(time0)):\n",
    "    Result0 += [ps.crps_gaussian(Wx_0[:,:,i], mu=Wx_1[:,:,i], sig=sigma_mean)]\n",
    "    \n",
    "print(np.sum(Result0))\n",
    "print(np.mean(Result0))"
   ]
  },
  {
   "cell_type": "markdown",
   "metadata": {},
   "source": [
    "## {Wx, data points: 19 222 200, 295 data steps, $\\sigma$ estimated in 20 time steps. }"
   ]
  },
  {
   "cell_type": "code",
   "execution_count": null,
   "metadata": {},
   "outputs": [],
   "source": [
    "sigma_mean1 = np.mean(np.std(Wx_2[:,:,:20],3),2)\n",
    "sigma_mean1.shape"
   ]
  },
  {
   "cell_type": "code",
   "execution_count": null,
   "metadata": {},
   "outputs": [],
   "source": [
    "Result0 = []\n",
    "for i in range(73):\n",
    "    Result0 += [ps.crps_gaussian(Wx_0[:,:,i], mu=Wx_1[:,:,i], sig=sigma_mean1)]\n",
    "for i in range(73+20,len(time0)):\n",
    "    Result0 += [ps.crps_gaussian(Wx_0[:,:,i], mu=Wx_1[:,:,i], sig=sigma_mean1)]\n",
    "    \n",
    "print(np.sum(Result0))\n",
    "print(np.mean(Result0))"
   ]
  },
  {
   "cell_type": "markdown",
   "metadata": {},
   "source": [
    "## {Wx, data points: 7 102 440, 99 data steps, $\\sigma$ estimated in 20 time steps. }"
   ]
  },
  {
   "cell_type": "code",
   "execution_count": null,
   "metadata": {},
   "outputs": [],
   "source": [
    "#load or save the file with the observed data\n",
    "file_save = '2018_0456-Wind_UVT-level_20000-1Forc_000'\n",
    "directory = 'data_matrix/'\n",
    "filename = directory + file_save + '.npz'\n",
    "#np.savez(filename, Wx_alpha = Wx_15min)\n",
    "#print(filename)\n",
    "data = np.load(filename)\n",
    "Wx_0 = data[param]\n",
    "time_0 = data['vec_time']\n",
    "hour_0 = data['delta_hours']\n",
    "data.close()"
   ]
  },
  {
   "cell_type": "code",
   "execution_count": null,
   "metadata": {},
   "outputs": [],
   "source": [
    "#load or save the file with the forecasted data\n",
    "file_save = '2018_0456-Wind_UVT-level_20000-1Forc_006'\n",
    "directory = 'data_matrix/'\n",
    "filename = directory + file_save + '.npz'\n",
    "#np.savez(filename, Wx_alpha = Wx_15min)\n",
    "#print(filename)\n",
    "data = np.load(filename)\n",
    "Wx_1 = data[param]\n",
    "time_1 = data['vec_time']\n",
    "hour_1 = data['delta_hours']\n",
    "data.close()"
   ]
  },
  {
   "cell_type": "code",
   "execution_count": null,
   "metadata": {},
   "outputs": [],
   "source": [
    "#Chooses the data so they will be in the same time_step\n",
    "time0 = []\n",
    "ii = []\n",
    "jj = []\n",
    "kk = []\n",
    "for i in range(len(time_0)):\n",
    "    for j in range(len(time_1)):\n",
    "        for k in range(len(time_2)):\n",
    "            if time_0[i] == time_1[j]:\n",
    "                if time_0[i] == time_2[k]:\n",
    "                    time0 += [time_0[i]]\n",
    "                    ii += [i]\n",
    "                    jj += [j]\n",
    "                    kk += [k]\n",
    "\n",
    "tim_0 = time_0[ii]\n",
    "tim_1 = time_1[jj]\n",
    "Wx_0 = Wx_0[:,:,ii]\n",
    "Wx_1 = Wx_1[:,:,jj]\n",
    "Wx_2 = Wx_2[:,:,kk,:]\n",
    "delta_hours = (tim_0[1:] - tim_1[:-1])\n",
    "n = len(delta_hours)\n",
    "dhour = np.zeros([n,1])\n",
    "for i in range(0,n):\n",
    "    dhour[i] = delta_hours[i].total_seconds()/3600"
   ]
  },
  {
   "cell_type": "code",
   "execution_count": null,
   "metadata": {},
   "outputs": [],
   "source": [
    "Result0 = []\n",
    "Result1 = []\n",
    "for i in range(20,len(time0)):\n",
    "#for i in range(1):\n",
    "    Result0 += [ps.crps_gaussian(Wx_0[:,:,i], mu=Wx_1[:,:,i], sig=sigma_mean1)]\n",
    "    Result1 += [ps.crps_ensemble(Wx_0[:,:,i], Wx_2[:,:,i,:])]\n",
    "    \n",
    "\n",
    "print('Gaussian!')\n",
    "print(np.sum(Result0))\n",
    "print(np.mean(Result0))\n",
    "print('Ensemble!')\n",
    "print(np.sum(Result1))\n",
    "print(np.mean(Result1))"
   ]
  }
 ],
 "metadata": {
  "kernelspec": {
   "display_name": "Python 3",
   "language": "python",
   "name": "python3"
  },
  "language_info": {
   "codemirror_mode": {
    "name": "ipython",
    "version": 3
   },
   "file_extension": ".py",
   "mimetype": "text/x-python",
   "name": "python",
   "nbconvert_exporter": "python",
   "pygments_lexer": "ipython3",
   "version": "3.6.4"
  }
 },
 "nbformat": 4,
 "nbformat_minor": 2
}
