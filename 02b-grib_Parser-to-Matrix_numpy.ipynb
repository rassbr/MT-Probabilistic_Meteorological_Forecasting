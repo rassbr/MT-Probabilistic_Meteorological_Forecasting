{
 "cells": [
  {
   "cell_type": "markdown",
   "metadata": {},
   "source": [
    "# Importing modules"
   ]
  },
  {
   "cell_type": "code",
   "execution_count": null,
   "metadata": {},
   "outputs": [],
   "source": [
    "import numpy as np\n",
    "import os\n",
    "import gdal\n",
    "import ogr\n",
    "import osr\n",
    "import gdalnumeric\n",
    "import gdalconst\n",
    "from osgeo.gdalconst import GA_ReadOnly\n",
    "import pandas as pd\n",
    "import sys"
   ]
  },
  {
   "cell_type": "markdown",
   "metadata": {},
   "source": [
    "# Defining base functions"
   ]
  },
  {
   "cell_type": "code",
   "execution_count": null,
   "metadata": {},
   "outputs": [],
   "source": [
    "#all Functions\n",
    "\n",
    "def find_band_number(dataset, variable):\n",
    "    '''\n",
    "    Finds the band number and level inside the GRIB file, given the variable\n",
    "    '''\n",
    "    i_list = []\n",
    "    level_list  =[]\n",
    "    for i in range(1,dataset.RasterCount + 1):\n",
    "        band = dataset.GetRasterBand(i)\n",
    "        metadata = band.GetMetadata()\n",
    "        band_level = metadata['GRIB_SHORT_NAME']\n",
    "        band_variable = metadata['GRIB_ELEMENT']\n",
    "        level = band_level[-4:]\n",
    "        if (variable == band_variable) and (level == 'ISBL'):\n",
    "            i_list = i_list + [i]\n",
    "            level = band_level[0:-5]\n",
    "            level_list = level_list + [level]\n",
    "            #return i\n",
    "    return i_list, level_list #retun a list with the number in the band of the variable and its ISBL level\n",
    "    \n",
    "def get_Timestamp(Y, M, D, hour, forc):\n",
    "    '''\n",
    "    Take as input the YMD (year, month and day in the format YYYYMMDD), hour (format HH) and forc \n",
    "    (format HHH - hours betweent forecast and simulation). The output is a pandas Timestamp. \n",
    "    '''\n",
    "    hour = hour[0:2]\n",
    "    hour = int(hour)\n",
    "    forc = int(forc)\n",
    "    hour = hour + forc\n",
    "    if hour > 23:\n",
    "        \n",
    "        D = int(D) + int(hour/24)\n",
    "        if D < 10:\n",
    "            D = '0' + str(D)\n",
    "        else:\n",
    "            D = str(D)\n",
    "        hour = hour%24\n",
    "    if hour < 10:\n",
    "        hour = '0'+str(hour)\n",
    "    else:\n",
    "        hour = str(hour)\n",
    "    time = Y + M + D + ' ' + hour\n",
    "    \n",
    "    try:\n",
    "        timestamp =  pd.Timestamp(time)\n",
    "    \n",
    "    except ValueError:\n",
    "        try:\n",
    "            M = int(M) + 1\n",
    "            D = '01'\n",
    "            if M < 10:\n",
    "                M = '0' + str(M)\n",
    "            else:\n",
    "                M = str(M)\n",
    "            time = Y + M + D + ' ' + hour\n",
    "            timestamp =  pd.Timestamp(time)\n",
    "        except:\n",
    "            Y = int(Y) +1\n",
    "            Y = str(Y)\n",
    "            M = '01'\n",
    "            timestamp =  pd.Timestamp(time)\n",
    "    return timestamp"
   ]
  },
  {
   "cell_type": "markdown",
   "metadata": {},
   "source": [
    "# Defining variables to the conversion"
   ]
  },
  {
   "cell_type": "code",
   "execution_count": null,
   "metadata": {},
   "outputs": [],
   "source": [
    "# to read the data\n",
    "year = '2018'\n",
    "monthh = ['01','02','03','04','05','06','07','08','09','10','11','12']\n",
    "dayy = ['01','02','03','04','05','06','07','08','09','10','11','12','13','14','15','16',\n",
    "        '17','18','19','20','21','22','23','24','25','26','27','28','29','30','31']\n",
    "hour = ['0000','0600','1200','1800']\n",
    "forc = ['006']\n",
    "data_type = 'gfs_3'\n",
    "#directory of the files\n",
    "directory = 'data_Grib/'"
   ]
  },
  {
   "cell_type": "code",
   "execution_count": null,
   "metadata": {},
   "outputs": [],
   "source": [
    "# Defining constants\n",
    "Nb = 1000 #number of files\n",
    "Nx = 181 #number of latitudes\n",
    "Ny = 360 #number of longitudes\n",
    "# to save only a single level in each matrix\n",
    "level_set = '20000'"
   ]
  },
  {
   "cell_type": "markdown",
   "metadata": {},
   "source": [
    "# Converting from grib to Matrix"
   ]
  },
  {
   "cell_type": "code",
   "execution_count": null,
   "metadata": {},
   "outputs": [],
   "source": [
    "#initializing matrix and variables\n",
    "Matrix_u = np.zeros([Nx,Ny,Nb])\n",
    "Matrix_v = np.zeros([Nx,Ny,Nb])\n",
    "Matrix_T = np.zeros([Nx,Ny,Nb])\n",
    "delta_hours = np.zeros([Nb])\n",
    "delta_hours[0] = 0\n",
    "vec_time = []\n",
    "count = 0\n",
    "\n",
    "#looping between the forescat data\n",
    "for month in monthh:\n",
    "    YM = year + month \n",
    "    print('\\n',YM)\n",
    "    for day in dayy:\n",
    "        D = day\n",
    "        print(D,end = '|')\n",
    "        for i1 in range(len(hour)):\n",
    "            for j1 in range(len(forc)):\n",
    "                hour1 = hour[i1]\n",
    "                forc1 = forc[j1]\n",
    "                file_name = data_type +  '_' +  YM + D + '_'   + hour[i1] + '_' + forc[j1] + '.grb2'\n",
    "                data_file = directory + file_name\n",
    "                # verify if file exists in the directory\n",
    "                if os.path.isfile(data_file):\n",
    "                    # gets the timestamp\n",
    "                    time = get_Timestamp(year, month, D, hour1, forc1)\n",
    "                    vec_time += [time]\n",
    "                    \n",
    "                    #The parsing of the Grib is based in: \n",
    "                        #http://geoexamples.blogspot.com/2013/05/drawing-wind-barbs-gdal-python.html\n",
    "                        \n",
    "                    # importing data from Grib file\n",
    "                    dataset = gdal.Open(data_file, GA_ReadOnly )\n",
    "                    #get variables\n",
    "                    u_band_id,u_band_level = find_band_number(dataset, 'UGRD') #Wind Wx\n",
    "                    v_band_id,v_band_level = find_band_number(dataset, 'VGRD') #Wind Wy\n",
    "                    T_band_id,T_band_level = find_band_number(dataset, 'TMP') #Temperature\n",
    "\n",
    "                    #print(u_band_id)\n",
    "                    i = 0\n",
    "                    level = u_band_level\n",
    "                    #level_set = '20000'\n",
    "                    while level[i] != level_set:\n",
    "                        i += 1\n",
    "                        #print(i)\n",
    "                    band_u = dataset.GetRasterBand(u_band_id[i])\n",
    "                    band_v = dataset.GetRasterBand(v_band_id[i])\n",
    "                    band_T = dataset.GetRasterBand(T_band_id[i])\n",
    "                    level = u_band_level[i]\n",
    "                    \n",
    "                    #print(level)\n",
    "                    geo = dataset.GetGeoTransform()\n",
    "                    xsize = band_u.XSize\n",
    "                    ysize = band_u.YSize\n",
    "\n",
    "                    \n",
    "                    Matrix_u [:,:,count] = band_u.ReadAsArray(0, 0, xsize, ysize)\n",
    "                    Matrix_v [:,:,count] = band_v.ReadAsArray(0, 0, xsize, ysize)\n",
    "                    Matrix_T [:,:,count] = band_T.ReadAsArray(0, 0, xsize, ysize)\n",
    "                    count += 1\n",
    "\n",
    "\n",
    "# generate the vector which contains the number of hours between each forecast                        \n",
    "for i in range(1,count):\n",
    "    delta_hours[i] = ((vec_time[i]- vec_time[i-1]).total_seconds()/3600)\n",
    "    \n",
    "# in case the number of files, Nb, was specified greater than the reality it corrects the vector    \n",
    "Matrix_u = Matrix_u [:,:,:count]\n",
    "Matrix_v = Matrix_v [:,:,:count]\n",
    "Matrix_T = Matrix_T [:,:,:count]\n",
    "delta_hours = delta_hours[:count]\n",
    "vec_time = vec_time[:count]"
   ]
  },
  {
   "cell_type": "markdown",
   "metadata": {},
   "source": [
    "# Save the matrix"
   ]
  },
  {
   "cell_type": "code",
   "execution_count": null,
   "metadata": {},
   "outputs": [],
   "source": [
    "# chooses the name of the file\n",
    "file_save = (YM + 'Wind_UVT-level_' + level_set + '-1Forc_' + forc[0])\n",
    "print('\\n',file_save)\n",
    "\n",
    "# directory to save the data\n",
    "directory = 'data_matrix/'\n",
    "filename = directory + file_save + '.npz'\n",
    "# saving the data\n",
    "np.savez(filename, Wx = Matrix_u, Wy = Matrix_v, T = Matrix_T, delta_hours = delta_hours, vec_time = vec_time)\n",
    "# complete data name\n",
    "print(filename)"
   ]
  }
 ],
 "metadata": {
  "kernelspec": {
   "display_name": "Python 3",
   "language": "python",
   "name": "python3"
  },
  "language_info": {
   "codemirror_mode": {
    "name": "ipython",
    "version": 3
   },
   "file_extension": ".py",
   "mimetype": "text/x-python",
   "name": "python",
   "nbconvert_exporter": "python",
   "pygments_lexer": "ipython3",
   "version": "3.6.4"
  }
 },
 "nbformat": 4,
 "nbformat_minor": 2
}
