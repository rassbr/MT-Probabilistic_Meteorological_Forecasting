{
 "cells": [
  {
   "cell_type": "markdown",
   "metadata": {},
   "source": [
    "# Importing modules"
   ]
  },
  {
   "cell_type": "code",
   "execution_count": 1,
   "metadata": {},
   "outputs": [
    {
     "name": "stderr",
     "output_type": "stream",
     "text": [
      "C:\\Users\\SERRA_R\\AppData\\Local\\Continum\\anaconda3\\lib\\site-packages\\statsmodels\\compat\\pandas.py:56: FutureWarning: The pandas.core.datetools module is deprecated and will be removed in a future version. Please use the pandas.tseries module instead.\n",
      "  from pandas.core import datetools\n"
     ]
    },
    {
     "data": {
      "text/plain": [
       "<matplotlib.figure.Figure at 0x1b27264cef0>"
      ]
     },
     "execution_count": 1,
     "metadata": {},
     "output_type": "execute_result"
    },
    {
     "data": {
      "text/plain": [
       "<matplotlib.figure.Figure at 0x1b27264cef0>"
      ]
     },
     "metadata": {},
     "output_type": "display_data"
    }
   ],
   "source": [
    "import pandas as pd\n",
    "import numpy as np\n",
    "import time\n",
    "import warnings\n",
    "import itertools\n",
    "from scipy import stats as st\n",
    "import statsmodels as sm\n",
    "import statsmodels.api as sma\n",
    "import matplotlib.pyplot as plt\n",
    "plt.style.use('fivethirtyeight')\n",
    "import h5py\n",
    "from statsmodels.distributions.empirical_distribution import ECDF\n",
    "from scipy.stats.kde import gaussian_kde\n",
    "from scipy.stats import norm\n",
    "import statisticalTools as sT\n",
    "from sklearn.neighbors.kde import KernelDensity\n",
    "warnings.filterwarnings(\"ignore\")\n",
    "\n",
    "%matplotlib inline \n",
    "#%matplotlib \n",
    "plt.figure(figsize=(15, 6))"
   ]
  },
  {
   "cell_type": "markdown",
   "metadata": {},
   "source": [
    "# Defining functions"
   ]
  },
  {
   "cell_type": "code",
   "execution_count": 2,
   "metadata": {},
   "outputs": [],
   "source": [
    "def mid(x):\n",
    "    '''Returns a vector with the mean of two consecutive values.'''\n",
    "    middle = np.zeros(len(x)-1)\n",
    "    for i in range(len(x)-1):\n",
    "        middle[i] = (x[i+1]+x[i])/2\n",
    "    return middle"
   ]
  },
  {
   "cell_type": "markdown",
   "metadata": {},
   "source": [
    "# Reading data and extracting information"
   ]
  },
  {
   "cell_type": "code",
   "execution_count": 3,
   "metadata": {},
   "outputs": [],
   "source": [
    "#Read data\n",
    "file_name = 'data/GENS_test_AllLevels3'+'.hdf'\n",
    "dt = pd.read_hdf(file_name, 'Wind_vector')\n",
    "#Sort the dataset in function of date\n",
    "dt = dt.set_index('Timestamp')\n",
    "dt = dt.sort_index()"
   ]
  },
  {
   "cell_type": "code",
   "execution_count": 4,
   "metadata": {},
   "outputs": [],
   "source": [
    "#Read data\n",
    "file_name = 'data/gens-a_3'+'.hdf'\n",
    "DT = pd.read_hdf(file_name, 'Wind_vector')\n",
    "DT = DT.set_index('Timestamp')\n",
    "DT = DT.sort_index()"
   ]
  },
  {
   "cell_type": "code",
   "execution_count": 7,
   "metadata": {},
   "outputs": [],
   "source": [
    "#Selects the time steps presents on both datasets.\n",
    "ind0 = dt.index.unique()\n",
    "ind1 = DT.index.unique()\n",
    "ind = set(ind0) & set(ind1)\n",
    "\n",
    "dtt = dt.loc[ind]\n",
    "DTT = DT.loc[ind]\n",
    "\n",
    "dtc = dtt.where(dtt.Forecast == '000').where(dtt.NForecast == 999).dropna(how='all') #Observation - Most probable forecast\n",
    "dtd = dtt.where(dtt.Forecast == '006').where(dtt.NForecast == 999).dropna(how='all') #Forecast - Most probable forecast"
   ]
  },
  {
   "cell_type": "code",
   "execution_count": 9,
   "metadata": {},
   "outputs": [
    {
     "data": {
      "text/plain": [
       "{Timestamp('2018-05-01 06:00:00'),\n",
       " Timestamp('2018-05-01 12:00:00'),\n",
       " Timestamp('2018-05-01 18:00:00'),\n",
       " Timestamp('2018-05-02 00:00:00'),\n",
       " Timestamp('2018-05-02 06:00:00'),\n",
       " Timestamp('2018-05-02 12:00:00'),\n",
       " Timestamp('2018-05-02 18:00:00'),\n",
       " Timestamp('2018-05-03 00:00:00'),\n",
       " Timestamp('2018-05-03 06:00:00'),\n",
       " Timestamp('2018-05-03 12:00:00'),\n",
       " Timestamp('2018-05-03 18:00:00'),\n",
       " Timestamp('2018-05-04 00:00:00'),\n",
       " Timestamp('2018-05-04 06:00:00'),\n",
       " Timestamp('2018-05-04 12:00:00'),\n",
       " Timestamp('2018-05-04 18:00:00'),\n",
       " Timestamp('2018-05-05 00:00:00'),\n",
       " Timestamp('2018-05-05 06:00:00'),\n",
       " Timestamp('2018-05-05 12:00:00'),\n",
       " Timestamp('2018-05-05 18:00:00'),\n",
       " Timestamp('2018-05-06 00:00:00'),\n",
       " Timestamp('2018-05-06 06:00:00'),\n",
       " Timestamp('2018-05-06 12:00:00'),\n",
       " Timestamp('2018-05-06 18:00:00'),\n",
       " Timestamp('2018-05-07 00:00:00'),\n",
       " Timestamp('2018-05-07 06:00:00'),\n",
       " Timestamp('2018-05-07 12:00:00'),\n",
       " Timestamp('2018-05-07 18:00:00'),\n",
       " Timestamp('2018-05-08 00:00:00'),\n",
       " Timestamp('2018-05-08 06:00:00'),\n",
       " Timestamp('2018-05-08 12:00:00'),\n",
       " Timestamp('2018-05-08 18:00:00'),\n",
       " Timestamp('2018-05-09 00:00:00'),\n",
       " Timestamp('2018-05-09 06:00:00'),\n",
       " Timestamp('2018-05-09 12:00:00'),\n",
       " Timestamp('2018-05-09 18:00:00'),\n",
       " Timestamp('2018-05-10 00:00:00'),\n",
       " Timestamp('2018-05-10 06:00:00'),\n",
       " Timestamp('2018-05-10 12:00:00'),\n",
       " Timestamp('2018-05-10 18:00:00'),\n",
       " Timestamp('2018-05-11 00:00:00'),\n",
       " Timestamp('2018-05-11 06:00:00'),\n",
       " Timestamp('2018-05-11 12:00:00'),\n",
       " Timestamp('2018-05-11 18:00:00'),\n",
       " Timestamp('2018-05-12 00:00:00'),\n",
       " Timestamp('2018-05-12 06:00:00'),\n",
       " Timestamp('2018-05-12 12:00:00'),\n",
       " Timestamp('2018-05-12 18:00:00'),\n",
       " Timestamp('2018-05-13 00:00:00'),\n",
       " Timestamp('2018-05-13 06:00:00'),\n",
       " Timestamp('2018-05-13 12:00:00'),\n",
       " Timestamp('2018-05-13 18:00:00'),\n",
       " Timestamp('2018-05-14 00:00:00'),\n",
       " Timestamp('2018-05-14 06:00:00'),\n",
       " Timestamp('2018-05-14 12:00:00'),\n",
       " Timestamp('2018-05-14 18:00:00'),\n",
       " Timestamp('2018-05-15 00:00:00'),\n",
       " Timestamp('2018-05-15 06:00:00'),\n",
       " Timestamp('2018-05-15 12:00:00'),\n",
       " Timestamp('2018-05-15 18:00:00'),\n",
       " Timestamp('2018-05-16 00:00:00'),\n",
       " Timestamp('2018-05-16 06:00:00'),\n",
       " Timestamp('2018-05-16 12:00:00'),\n",
       " Timestamp('2018-05-16 18:00:00'),\n",
       " Timestamp('2018-05-17 00:00:00')}"
      ]
     },
     "execution_count": 9,
     "metadata": {},
     "output_type": "execute_result"
    }
   ],
   "source": [
    "ind"
   ]
  },
  {
   "cell_type": "code",
   "execution_count": 8,
   "metadata": {},
   "outputs": [
    {
     "name": "stdout",
     "output_type": "stream",
     "text": [
      "[50.5, 51.5, 52.5, 53.5, 54.5, 55.5, 56.5, 57.5, 58.5, 59.5]\n",
      "[0.5, 1.5, 2.5, 3.5, 4.5, 5.5, 6.5, 7.5, 8.5, 9.5]\n",
      "[100000.0, 20000.0, 40000.0, 1000.0, 85000.0, 5000.0, 25000.0, 30000.0, 10000.0, 70000.0, 50000.0, 92500.0]\n"
     ]
    }
   ],
   "source": [
    "#Selects the latitude, longitudes and levels steps presents on both datasets.\n",
    "lats0 = dtt.where(dtt.NForecast == 999).dropna(how = 'all').lat.unique()\n",
    "longs0 = dtt.where(dtt.NForecast == 999).dropna(how = 'all').long.unique()\n",
    "levels0 = dtt.where(dtt.NForecast == 999).dropna(how = 'all').level.unique()\n",
    "\n",
    "lats1 = DTT.lat.unique()\n",
    "longs1 = DTT.long.unique()\n",
    "levels1 = DTT.level.unique()\n",
    "\n",
    "lats = list(set(lats0) & set(lats1))\n",
    "longs = list(set(longs0) & set(longs1))\n",
    "levels = list(set(levels0) & set(levels1))\n",
    "\n",
    "#shows the latitudes, longitudes and levels presents in both datasets\n",
    "print(lats)\n",
    "print(longs)\n",
    "print(levels)"
   ]
  },
  {
   "cell_type": "markdown",
   "metadata": {},
   "source": [
    "## Prints one example"
   ]
  },
  {
   "cell_type": "code",
   "execution_count": null,
   "metadata": {},
   "outputs": [],
   "source": [
    "#Takes one sample of the data\n",
    "df = DTT\n",
    "\n",
    "for i in range(1):\n",
    "    \n",
    "    df = df.where(df.lat == lats[0] )\n",
    "    df = df.where(df.long == longs[0] )\n",
    "    df = df.where(df.level == levels[0] )\n",
    "    df = df.dropna(how = 'all')\n",
    "    \n",
    "    oi = np.random.randint(0,len(df))\n",
    "    df = df.loc[df.index[oi]]\n",
    "    print(oi)\n",
    "    \n",
    "    \n",
    "df['Wx'].plot(kind=\"hist\",bins=10)\n",
    "plt.show()\n",
    "df['Wx'].plot(kind=\"kde\")\n",
    "plt.show()"
   ]
  },
  {
   "cell_type": "markdown",
   "metadata": {},
   "source": [
    "# Vizualising data"
   ]
  },
  {
   "cell_type": "code",
   "execution_count": null,
   "metadata": {},
   "outputs": [],
   "source": [
    "#Selecting data to compare\n",
    "\n",
    "dx = dt\n",
    "dt = dtt\n",
    "dt = dt.sort_index()\n",
    "dt = dt.where(dt.Forecast == '000')\n",
    "dt = dt.where(dt.NForecast == 999)\n",
    "dy = dt.dropna()\n",
    "#dt = dt.ix[dt.index[1]]\n",
    "\n",
    "dt = dtt\n",
    "dt = dt.sort_index()\n",
    "dt = dt.where(dt.Forecast == '006')\n",
    "dt = dt.where(dt.NForecast == 999)\n",
    "dyf = dt.dropna()\n",
    "\n",
    "dt = dx"
   ]
  },
  {
   "cell_type": "code",
   "execution_count": null,
   "metadata": {},
   "outputs": [],
   "source": [
    "#Calculating plots\n",
    "\n",
    "oi = 0\n",
    "\n",
    "dfp = DTT\n",
    "dyp = dy\n",
    "dyfp = dyf\n",
    "\n",
    "dfp = dfp.where(dfp.lat == lats[oi] )\n",
    "dfp = dfp.where(dfp.long == longs[oi] )\n",
    "dfp = dfp.where(dfp.level == levels[oi] )\n",
    "dfp = dfp.dropna(how = 'all')\n",
    "\n",
    "dyp = dyp.where(dyp.lat == lats[oi] )\n",
    "dyp = dyp.where(dyp.long == longs[oi]) \n",
    "dyp = dyp.where(dyp.level == levels[oi]) \n",
    "dyp = dyp.dropna(how='all')\n",
    "\n",
    "dyfp = dyfp.where(dyfp.lat == lats[oi]) \n",
    "dyfp = dyfp.where(dyfp.long == longs[oi]) \n",
    "dyfp = dyfp.where(dyfp.level == levels[oi]) \n",
    "dyfp = dyfp.dropna(how='all')"
   ]
  },
  {
   "cell_type": "markdown",
   "metadata": {},
   "source": [
    "## wrt time"
   ]
  },
  {
   "cell_type": "code",
   "execution_count": null,
   "metadata": {},
   "outputs": [],
   "source": [
    "# Winds -> Wx\n",
    "\n",
    "az = dyp.Wx.plot(label='Observed',marker='o',linestyle='',figsize=(15, 6), color = 'yellow',markersize = 8)\n",
    "ax = dfp.Wx.plot(label='forecast',marker='1',linestyle='',figsize=(15, 6), color = 'red')\n",
    "azz = dyfp.Wx.plot(label='1Forecast',marker='*',linestyle='',figsize=(15, 6), color = 'k')\n",
    "\n",
    "ax.set_xlabel('Date')\n",
    "ax.set_ylabel('Winds - Wx')\n",
    "\n",
    "ini = 3;end = ini +20  * 5\n",
    "axes = plt.gca()\n",
    "#axes.set_xlim([dfp.index[ini-2],dfp.index[end+2]])\n",
    "#axes.set_ylim([-15, 0])\n",
    "plt.legend()\n",
    "plt.show()"
   ]
  },
  {
   "cell_type": "code",
   "execution_count": null,
   "metadata": {},
   "outputs": [],
   "source": []
  },
  {
   "cell_type": "code",
   "execution_count": null,
   "metadata": {},
   "outputs": [],
   "source": []
  },
  {
   "cell_type": "code",
   "execution_count": null,
   "metadata": {},
   "outputs": [],
   "source": [
    "# Winds -> Wy\n",
    "\n",
    "az = dyp.Wy.plot(label='Observed',marker='o',linestyle='',figsize=(15, 6), color = 'yellow',markersize = 8)\n",
    "ax = dfp.Wy.plot(label='forecast',marker='1',linestyle='',figsize=(15, 6), color = 'red')\n",
    "azz = dyfp.Wy.plot(label='1Forecast',marker='*',linestyle='',figsize=(15, 6), color = 'k')\n",
    "\n",
    "ax.set_xlabel('Date')\n",
    "ax.set_ylabel('Winds - Wy')\n",
    "axes = plt.gca()\n",
    "plt.legend()\n",
    "plt.show()"
   ]
  },
  {
   "cell_type": "code",
   "execution_count": null,
   "metadata": {},
   "outputs": [],
   "source": [
    "# Winds -> Absolute value - W_abs\n",
    "\n",
    "az = np.sqrt(dyp.Wx*dyp.Wx+dyp.Wy*dyp.Wy).plot(label='Observed',marker='o',linestyle='',figsize=(15, 6), color = 'yellow',markersize = 8)\n",
    "ax = np.sqrt(dfp.Wx*dfp.Wx+dfp.Wy*dfp.Wy).plot(label='forecast',marker='1',linestyle='',figsize=(15, 6), color = 'red')\n",
    "azz = np.sqrt(dyfp.Wx*dyfp.Wx+dyfp.Wy*dyfp.Wy).plot(label='1Forecast',marker='*',linestyle='',figsize=(15, 6), color = 'k')\n",
    "\n",
    "ax.set_xlabel('Date')\n",
    "ax.set_ylabel('Vents - W_abs')\n",
    "axes = plt.gca()\n",
    "plt.legend()\n",
    "plt.show()"
   ]
  },
  {
   "cell_type": "code",
   "execution_count": null,
   "metadata": {},
   "outputs": [],
   "source": [
    "# Winds -> direction - Angle\n",
    "\n",
    "az = np.degrees(np.arctan2(dyp.Wy,dyp.Wx)).plot(label='Observed',marker='o',linestyle='',figsize=(15, 6), color = 'yellow',markersize = 8)\n",
    "ax = np.degrees(np.arctan2(dfp.Wy,dfp.Wx)).plot(label='forecast',marker='1',linestyle='',figsize=(15, 6), color = 'red')\n",
    "azz = np.degrees(np.arctan2(dyfp.Wy,dyfp.Wx)).plot(label='1Forecast',marker='*',linestyle='',figsize=(15, 6), color = 'k')\n",
    "\n",
    "ax.set_xlabel('Date')\n",
    "ax.set_ylabel('Winds - Angle (degrees)')\n",
    "axes = plt.gca()\n",
    "axes.set_ylim([-200, 200])\n",
    "plt.legend()\n",
    "plt.show()"
   ]
  },
  {
   "cell_type": "markdown",
   "metadata": {},
   "source": [
    "## wrt the probabilities distribution"
   ]
  },
  {
   "cell_type": "markdown",
   "metadata": {},
   "source": [
    "### Calculating values"
   ]
  },
  {
   "cell_type": "code",
   "execution_count": null,
   "metadata": {},
   "outputs": [],
   "source": [
    "#PDF and CDF\n",
    "\n",
    "#CDF\n",
    "val = np.array (df.Wx.values)\n",
    "dist = ECDF(val)\n",
    "ser = df.Wx\n",
    "sq = ser.value_counts()\n",
    "sp = sq.sort_index().cumsum()*1./len(df.Wx)\n",
    "\n",
    "##\n",
    "d1_np = np.array(df.Wx)\n",
    "mu,stdv = norm.fit(d1_np)\n",
    "\n",
    "name, param = sT.best_fit_distribution(d1_np,10)\n",
    "result = getattr(st, name)\n",
    "\n",
    "# Estimating the pdf\n",
    "KDEpdf = gaussian_kde(d1_np)\n",
    "xmean = np.abs(np.mean(d1_np))\n",
    "xmin = np.min(d1_np)-.2*xmean\n",
    "xmax = np.max(d1_np)+.2*xmean\n",
    "x = np.linspace(xmin,xmax,1000)\n",
    "\n",
    "# Estimating cdf\n",
    "KDEcdf = np.zeros([len(x),1])\n",
    "for i in range(len(x)):\n",
    "    KDEcdf[i] = KDEpdf.integrate_box_1d(-np.inf,x[i])"
   ]
  },
  {
   "cell_type": "markdown",
   "metadata": {},
   "source": [
    "### Plots"
   ]
  },
  {
   "cell_type": "code",
   "execution_count": null,
   "metadata": {},
   "outputs": [],
   "source": [
    "#CDF\n",
    "plt.plot(dist.x,dist.y, label = 'Empirical CDF', color = 'k',alpha = .8)\n",
    "ser.hist(cumulative=True, density=1, bins=10, label = 'Hist 10 bins', color = 'c')\n",
    "plt.plot(sp, marker = 'X', linestyle='',label = 'Empirical points', color = 'w')\n",
    "plt.plot(x,result.cdf(x,*param), label = name)\n",
    "plt.plot(x,KDEcdf, label = 'kde')\n",
    "plt.legend()\n",
    "plt.show()"
   ]
  },
  {
   "cell_type": "code",
   "execution_count": null,
   "metadata": {},
   "outputs": [],
   "source": [
    "##PDFs\n",
    "plt.plot(x,KDEpdf(x),'r',label=\"KDE estimation\",color=\"blue\")\n",
    "plt.hist(d1_np,normed=1,color=\"cyan\",alpha=.8,label = 'Data hist')\n",
    "plt.plot(x,norm.pdf(x,mu,stdv),label=\"PDF - Normal\",color=\"red\", linestyle = '--')\n",
    "plt.plot(x,result.pdf(x,*param), color = 'gold', label= name)\n",
    "plt.legend()\n",
    "plt.title(\"Returns: PDF\")\n",
    "plt.show()\n",
    "\n",
    "##CDFs\n",
    "plt.plot(x,norm.cdf(x,mu,stdv),label=\"CDF - Normal\",color=\"r\")\n",
    "plt.plot(sp, marker = 'X', linestyle='',color = 'cyan',label='Empirical CDF')\n",
    "plt.plot(x,result.cdf(x,*param), label = name, linestyle = '--',color ='gold')\n",
    "plt.plot(x,KDEcdf, label = 'kde', color = 'blue')\n",
    "plt.legend()\n",
    "plt.title(\"Returns: CDF\")\n",
    "plt.show()\n",
    "\n",
    "##Random sample\n",
    "plt.plot(d1_np[:],label=\"Actual\", marker = 'o', linestyle = '-',markerfacecolor = 'white')\n",
    "plt.plot(KDEpdf.resample(size=20)[0],label=\"KDE\",marker = 'o', linestyle = ':',markerfacecolor = 'k')\n",
    "plt.plot(result.rvs(*param,size=20),label=name, marker = 'o', linestyle = '--',markerfacecolor = 'g')\n",
    "plt.title(\"Simulated returns from KDE estimation compared to actual return\")\n",
    "plt.legend()\n",
    "plt.show()\n",
    "\n",
    "#Verifying sampled histogram\n",
    "plt.hist(d1_np,label=\"Actual\", normed = 1, color = 'k')\n",
    "n = 1000\n",
    "plt.hist(KDEpdf.resample(size=20*n)[0],label=\"KDE\",alpha = .7,normed=True, color = 'green')\n",
    "plt.hist(result.rvs(*param,size=20*n),label=name,alpha = .7,normed = True, color = 'red')\n",
    "plt.legend()\n",
    "plt.show()"
   ]
  },
  {
   "cell_type": "code",
   "execution_count": null,
   "metadata": {},
   "outputs": [],
   "source": [
    "#Possibles Histograms\n",
    "\n",
    "ri0, ri1 = np.histogram(d1_np, bins = 20, density = 'True')\n",
    "ai0, ai1 = np.histogram(d1_np, bins = 10, density = 'True')\n",
    "bi0, bi1 = np.histogram(d1_np, bins = 'doane', density = 'True')\n",
    "ci0, ci1 = np.histogram(d1_np, bins = 'fd', density = 'True')\n",
    "di0, di1 = np.histogram(result.rvs(*param,size = 100), bins ='doane',density = 'True')\n",
    "\n",
    "plt.plot(mid(ri1),ri0,linestyle = '', marker = 'X', label = 'ref 20')\n",
    "plt.plot(mid(ai1),ai0,linestyle = '', marker = 'X', label = '10 bins')\n",
    "plt.plot(mid(bi1),bi0,linestyle = '', marker = 'X', label = 'doane')\n",
    "plt.plot(mid(ci1),ci0,linestyle = '', marker = 'X', label = 'fd')\n",
    "plt.plot(mid(di1),di0,linestyle = '', marker = 'X', label = name)\n",
    "\n",
    "plt.legend()\n",
    "plt.show()"
   ]
  }
 ],
 "metadata": {
  "kernelspec": {
   "display_name": "Python 3",
   "language": "python",
   "name": "python3"
  },
  "language_info": {
   "codemirror_mode": {
    "name": "ipython",
    "version": 3
   },
   "file_extension": ".py",
   "mimetype": "text/x-python",
   "name": "python",
   "nbconvert_exporter": "python",
   "pygments_lexer": "ipython3",
   "version": "3.6.4"
  }
 },
 "nbformat": 4,
 "nbformat_minor": 2
}
