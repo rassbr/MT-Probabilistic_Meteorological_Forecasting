{
 "cells": [
  {
   "cell_type": "code",
   "execution_count": 1,
   "metadata": {},
   "outputs": [
    {
     "name": "stderr",
     "output_type": "stream",
     "text": [
      "C:\\Users\\SERRA_R\\AppData\\Local\\Continum\\anaconda3\\lib\\site-packages\\statsmodels\\compat\\pandas.py:56: FutureWarning: The pandas.core.datetools module is deprecated and will be removed in a future version. Please use the pandas.tseries module instead.\n",
      "  from pandas.core import datetools\n"
     ]
    }
   ],
   "source": [
    "import numpy as np\n",
    "import matplotlib.pyplot as plt\n",
    "import pandas as pd\n",
    "import statsmodels as sm\n",
    "from statsmodels.tsa.stattools import *\n",
    "from statsmodels.graphics.tsaplots import*\n",
    "import statsmodels.tsa.arima_model as arima\n",
    "from matplotlib import pyplot"
   ]
  },
  {
   "cell_type": "code",
   "execution_count": 2,
   "metadata": {},
   "outputs": [
    {
     "data": {
      "text/html": [
       "<div>\n",
       "<style scoped>\n",
       "    .dataframe tbody tr th:only-of-type {\n",
       "        vertical-align: middle;\n",
       "    }\n",
       "\n",
       "    .dataframe tbody tr th {\n",
       "        vertical-align: top;\n",
       "    }\n",
       "\n",
       "    .dataframe thead th {\n",
       "        text-align: right;\n",
       "    }\n",
       "</style>\n",
       "<table border=\"1\" class=\"dataframe\">\n",
       "  <thead>\n",
       "    <tr style=\"text-align: right;\">\n",
       "      <th></th>\n",
       "      <th>Wx</th>\n",
       "      <th>Wy</th>\n",
       "      <th>lat</th>\n",
       "      <th>long</th>\n",
       "      <th>level</th>\n",
       "    </tr>\n",
       "  </thead>\n",
       "  <tbody>\n",
       "    <tr>\n",
       "      <th>0</th>\n",
       "      <td>2.141238</td>\n",
       "      <td>5.930576</td>\n",
       "      <td>90.5</td>\n",
       "      <td>-0.5</td>\n",
       "      <td>100.0</td>\n",
       "    </tr>\n",
       "    <tr>\n",
       "      <th>1</th>\n",
       "      <td>2.241238</td>\n",
       "      <td>5.890576</td>\n",
       "      <td>90.5</td>\n",
       "      <td>0.5</td>\n",
       "      <td>100.0</td>\n",
       "    </tr>\n",
       "    <tr>\n",
       "      <th>2</th>\n",
       "      <td>2.351238</td>\n",
       "      <td>5.850576</td>\n",
       "      <td>90.5</td>\n",
       "      <td>1.5</td>\n",
       "      <td>100.0</td>\n",
       "    </tr>\n",
       "    <tr>\n",
       "      <th>3</th>\n",
       "      <td>2.451238</td>\n",
       "      <td>5.810576</td>\n",
       "      <td>90.5</td>\n",
       "      <td>2.5</td>\n",
       "      <td>100.0</td>\n",
       "    </tr>\n",
       "    <tr>\n",
       "      <th>4</th>\n",
       "      <td>2.551238</td>\n",
       "      <td>5.760576</td>\n",
       "      <td>90.5</td>\n",
       "      <td>3.5</td>\n",
       "      <td>100.0</td>\n",
       "    </tr>\n",
       "  </tbody>\n",
       "</table>\n",
       "</div>"
      ],
      "text/plain": [
       "         Wx        Wy   lat  long  level\n",
       "0  2.141238  5.930576  90.5  -0.5  100.0\n",
       "1  2.241238  5.890576  90.5   0.5  100.0\n",
       "2  2.351238  5.850576  90.5   1.5  100.0\n",
       "3  2.451238  5.810576  90.5   2.5  100.0\n",
       "4  2.551238  5.760576  90.5   3.5  100.0"
      ]
     },
     "execution_count": 2,
     "metadata": {},
     "output_type": "execute_result"
    }
   ],
   "source": [
    "file_name = 'data/WindAll_lat_longgfs_3_20180413_0000_000.grb2'+'.hdf'\n",
    "dt = pd.read_hdf(file_name, 'Wind_vector')\n",
    "dt.head()"
   ]
  },
  {
   "cell_type": "code",
   "execution_count": 3,
   "metadata": {},
   "outputs": [
    {
     "data": {
      "text/html": [
       "<div>\n",
       "<style scoped>\n",
       "    .dataframe tbody tr th:only-of-type {\n",
       "        vertical-align: middle;\n",
       "    }\n",
       "\n",
       "    .dataframe tbody tr th {\n",
       "        vertical-align: top;\n",
       "    }\n",
       "\n",
       "    .dataframe thead th {\n",
       "        text-align: right;\n",
       "    }\n",
       "</style>\n",
       "<table border=\"1\" class=\"dataframe\">\n",
       "  <thead>\n",
       "    <tr style=\"text-align: right;\">\n",
       "      <th></th>\n",
       "      <th>Wx</th>\n",
       "      <th>Wy</th>\n",
       "      <th>lat</th>\n",
       "      <th>long</th>\n",
       "      <th>level</th>\n",
       "    </tr>\n",
       "  </thead>\n",
       "  <tbody>\n",
       "    <tr>\n",
       "      <th>count</th>\n",
       "      <td>2.019960e+06</td>\n",
       "      <td>2.019960e+06</td>\n",
       "      <td>2.019960e+06</td>\n",
       "      <td>2.019960e+06</td>\n",
       "      <td>2.019960e+06</td>\n",
       "    </tr>\n",
       "    <tr>\n",
       "      <th>mean</th>\n",
       "      <td>7.461291e+00</td>\n",
       "      <td>1.154384e-02</td>\n",
       "      <td>5.000000e-01</td>\n",
       "      <td>0.000000e+00</td>\n",
       "      <td>4.047742e+04</td>\n",
       "    </tr>\n",
       "    <tr>\n",
       "      <th>std</th>\n",
       "      <td>1.426042e+01</td>\n",
       "      <td>8.678099e+00</td>\n",
       "      <td>5.224941e+01</td>\n",
       "      <td>1.039227e+02</td>\n",
       "      <td>3.550799e+04</td>\n",
       "    </tr>\n",
       "    <tr>\n",
       "      <th>min</th>\n",
       "      <td>-4.416000e+01</td>\n",
       "      <td>-8.260003e+01</td>\n",
       "      <td>-8.950000e+01</td>\n",
       "      <td>-1.795000e+02</td>\n",
       "      <td>1.000000e+02</td>\n",
       "    </tr>\n",
       "    <tr>\n",
       "      <th>25%</th>\n",
       "      <td>-2.052356e+00</td>\n",
       "      <td>-3.800030e+00</td>\n",
       "      <td>-4.450000e+01</td>\n",
       "      <td>-8.975000e+01</td>\n",
       "      <td>3.000000e+03</td>\n",
       "    </tr>\n",
       "    <tr>\n",
       "      <th>50%</th>\n",
       "      <td>5.207492e+00</td>\n",
       "      <td>1.556445e-01</td>\n",
       "      <td>5.000000e-01</td>\n",
       "      <td>0.000000e+00</td>\n",
       "      <td>3.500000e+04</td>\n",
       "    </tr>\n",
       "    <tr>\n",
       "      <th>75%</th>\n",
       "      <td>1.525973e+01</td>\n",
       "      <td>4.069956e+00</td>\n",
       "      <td>4.550000e+01</td>\n",
       "      <td>8.975000e+01</td>\n",
       "      <td>7.500000e+04</td>\n",
       "    </tr>\n",
       "    <tr>\n",
       "      <th>max</th>\n",
       "      <td>8.864355e+01</td>\n",
       "      <td>7.159997e+01</td>\n",
       "      <td>9.050000e+01</td>\n",
       "      <td>1.795000e+02</td>\n",
       "      <td>1.000000e+05</td>\n",
       "    </tr>\n",
       "  </tbody>\n",
       "</table>\n",
       "</div>"
      ],
      "text/plain": [
       "                 Wx            Wy           lat          long         level\n",
       "count  2.019960e+06  2.019960e+06  2.019960e+06  2.019960e+06  2.019960e+06\n",
       "mean   7.461291e+00  1.154384e-02  5.000000e-01  0.000000e+00  4.047742e+04\n",
       "std    1.426042e+01  8.678099e+00  5.224941e+01  1.039227e+02  3.550799e+04\n",
       "min   -4.416000e+01 -8.260003e+01 -8.950000e+01 -1.795000e+02  1.000000e+02\n",
       "25%   -2.052356e+00 -3.800030e+00 -4.450000e+01 -8.975000e+01  3.000000e+03\n",
       "50%    5.207492e+00  1.556445e-01  5.000000e-01  0.000000e+00  3.500000e+04\n",
       "75%    1.525973e+01  4.069956e+00  4.550000e+01  8.975000e+01  7.500000e+04\n",
       "max    8.864355e+01  7.159997e+01  9.050000e+01  1.795000e+02  1.000000e+05"
      ]
     },
     "execution_count": 3,
     "metadata": {},
     "output_type": "execute_result"
    }
   ],
   "source": [
    "dt.describe()"
   ]
  },
  {
   "cell_type": "code",
   "execution_count": 4,
   "metadata": {},
   "outputs": [
    {
     "data": {
      "text/plain": [
       "(31,)"
      ]
     },
     "execution_count": 4,
     "metadata": {},
     "output_type": "execute_result"
    }
   ],
   "source": [
    "np.shape(dt.level.unique())"
   ]
  },
  {
   "cell_type": "code",
   "execution_count": 12,
   "metadata": {},
   "outputs": [
    {
     "name": "stdout",
     "output_type": "stream",
     "text": [
      "[   30.48    60.96    91.44   152.4    213.36   304.8    609.6    914.4\n",
      "  1524.    2133.6   3048.    4572.    6096.    7620.    9144.   10668.\n",
      " 12192.   13716.   15240.   16764.   18288.   19812.   21336.   22860.\n",
      " 24384.   25908.   27432.   28194.   28956.   29718.   30480.  ]\n"
     ]
    }
   ],
   "source": [
    "ab = dt.level.unique()\n",
    "print(ab*0.3048)"
   ]
  },
  {
   "cell_type": "code",
   "execution_count": 5,
   "metadata": {},
   "outputs": [
    {
     "data": {
      "text/html": [
       "<div>\n",
       "<style scoped>\n",
       "    .dataframe tbody tr th:only-of-type {\n",
       "        vertical-align: middle;\n",
       "    }\n",
       "\n",
       "    .dataframe tbody tr th {\n",
       "        vertical-align: top;\n",
       "    }\n",
       "\n",
       "    .dataframe thead th {\n",
       "        text-align: right;\n",
       "    }\n",
       "</style>\n",
       "<table border=\"1\" class=\"dataframe\">\n",
       "  <thead>\n",
       "    <tr style=\"text-align: right;\">\n",
       "      <th></th>\n",
       "      <th>Wx</th>\n",
       "      <th>Wy</th>\n",
       "      <th>lat</th>\n",
       "      <th>long</th>\n",
       "      <th>level</th>\n",
       "    </tr>\n",
       "  </thead>\n",
       "  <tbody>\n",
       "    <tr>\n",
       "      <th>Wx</th>\n",
       "      <td>1.000000</td>\n",
       "      <td>-0.022324</td>\n",
       "      <td>-1.957485e-01</td>\n",
       "      <td>-1.326385e-02</td>\n",
       "      <td>-2.709879e-01</td>\n",
       "    </tr>\n",
       "    <tr>\n",
       "      <th>Wy</th>\n",
       "      <td>-0.022324</td>\n",
       "      <td>1.000000</td>\n",
       "      <td>-2.666714e-04</td>\n",
       "      <td>3.603665e-02</td>\n",
       "      <td>3.866696e-03</td>\n",
       "    </tr>\n",
       "    <tr>\n",
       "      <th>lat</th>\n",
       "      <td>-0.195748</td>\n",
       "      <td>-0.000267</td>\n",
       "      <td>1.000000e+00</td>\n",
       "      <td>0.000000e+00</td>\n",
       "      <td>1.002603e-17</td>\n",
       "    </tr>\n",
       "    <tr>\n",
       "      <th>long</th>\n",
       "      <td>-0.013264</td>\n",
       "      <td>0.036037</td>\n",
       "      <td>0.000000e+00</td>\n",
       "      <td>1.000000e+00</td>\n",
       "      <td>3.588166e-19</td>\n",
       "    </tr>\n",
       "    <tr>\n",
       "      <th>level</th>\n",
       "      <td>-0.270988</td>\n",
       "      <td>0.003867</td>\n",
       "      <td>1.002603e-17</td>\n",
       "      <td>3.588166e-19</td>\n",
       "      <td>1.000000e+00</td>\n",
       "    </tr>\n",
       "  </tbody>\n",
       "</table>\n",
       "</div>"
      ],
      "text/plain": [
       "             Wx        Wy           lat          long         level\n",
       "Wx     1.000000 -0.022324 -1.957485e-01 -1.326385e-02 -2.709879e-01\n",
       "Wy    -0.022324  1.000000 -2.666714e-04  3.603665e-02  3.866696e-03\n",
       "lat   -0.195748 -0.000267  1.000000e+00  0.000000e+00  1.002603e-17\n",
       "long  -0.013264  0.036037  0.000000e+00  1.000000e+00  3.588166e-19\n",
       "level -0.270988  0.003867  1.002603e-17  3.588166e-19  1.000000e+00"
      ]
     },
     "execution_count": 5,
     "metadata": {},
     "output_type": "execute_result"
    }
   ],
   "source": [
    "dt.corr()"
   ]
  },
  {
   "cell_type": "code",
   "execution_count": 6,
   "metadata": {},
   "outputs": [],
   "source": [
    "long = dt.long.unique()\n",
    "lat = dt.lat.unique()\n",
    "level = dt.level.unique()\n",
    "#print('longitudes:', long)\n",
    "#print('latitudes:', lat)\n",
    "#print('levels',level)"
   ]
  },
  {
   "cell_type": "markdown",
   "metadata": {},
   "source": [
    "# Statistical Analysis"
   ]
  },
  {
   "cell_type": "markdown",
   "metadata": {},
   "source": [
    "## Longitudes"
   ]
  },
  {
   "cell_type": "code",
   "execution_count": 7,
   "metadata": {},
   "outputs": [
    {
     "data": {
      "image/png": "[encoded data removed]",
      "text/plain": [
       "<matplotlib.figure.Figure at 0xbce8668>"
      ]
     },
     "metadata": {},
     "output_type": "display_data"
    },
    {
     "data": {
      "image/png": "[encoded data removed]",
      "text/plain": [
       "<matplotlib.figure.Figure at 0xbce85f8>"
      ]
     },
     "metadata": {},
     "output_type": "display_data"
    }
   ],
   "source": [
    "DT = dt\n",
    "DT = DT.where(DT.level == level[0])\n",
    "DT = DT.where(DT.lat == lat[0])\n",
    "DT = DT.dropna(axis=0, how = 'all')\n",
    "DT.describe()\n",
    "x = DT.Wx\n",
    "plot_acf(x)\n",
    "plot_pacf(x, lags = 30)\n",
    "pyplot.show()"
   ]
  },
  {
   "cell_type": "code",
   "execution_count": 33,
   "metadata": {},
   "outputs": [
    {
     "data": {
      "image/png": "[encoded data removed]",
      "text/plain": [
       "<matplotlib.figure.Figure at 0xda91b70>"
      ]
     },
     "metadata": {},
     "output_type": "display_data"
    },
    {
     "data": {
      "image/png": "[encoded data removed]",
      "text/plain": [
       "<matplotlib.figure.Figure at 0xda91ba8>"
      ]
     },
     "metadata": {},
     "output_type": "display_data"
    }
   ],
   "source": [
    "DT1 = dt\n",
    "DT1 = DT.where(DT.level == level[0])\n",
    "DT1 = DT.where(DT.lat == lat[90])\n",
    "DT1 = DT.dropna(axis=0, how = 'all')\n",
    "DT1.head()\n",
    "x1 = DT1.Wx\n",
    "plot_acf(x1, lags = 30)\n",
    "plot_pacf(x1, lags = 30)\n",
    "pyplot.show()"
   ]
  },
  {
   "cell_type": "code",
   "execution_count": 237,
   "metadata": {},
   "outputs": [
    {
     "data": {
      "text/html": [
       "<div>\n",
       "<style scoped>\n",
       "    .dataframe tbody tr th:only-of-type {\n",
       "        vertical-align: middle;\n",
       "    }\n",
       "\n",
       "    .dataframe tbody tr th {\n",
       "        vertical-align: top;\n",
       "    }\n",
       "\n",
       "    .dataframe thead th {\n",
       "        text-align: right;\n",
       "    }\n",
       "</style>\n",
       "<table border=\"1\" class=\"dataframe\">\n",
       "  <thead>\n",
       "    <tr style=\"text-align: right;\">\n",
       "      <th></th>\n",
       "      <th>Wx</th>\n",
       "      <th>Wy</th>\n",
       "      <th>lat</th>\n",
       "      <th>long</th>\n",
       "      <th>level</th>\n",
       "    </tr>\n",
       "  </thead>\n",
       "  <tbody>\n",
       "    <tr>\n",
       "      <th>count</th>\n",
       "      <td>181.000000</td>\n",
       "      <td>181.000000</td>\n",
       "      <td>181.000000</td>\n",
       "      <td>181.0</td>\n",
       "      <td>181.0</td>\n",
       "    </tr>\n",
       "    <tr>\n",
       "      <th>mean</th>\n",
       "      <td>23.057260</td>\n",
       "      <td>-5.993623</td>\n",
       "      <td>0.500000</td>\n",
       "      <td>-0.5</td>\n",
       "      <td>100.0</td>\n",
       "    </tr>\n",
       "    <tr>\n",
       "      <th>std</th>\n",
       "      <td>13.899893</td>\n",
       "      <td>9.185682</td>\n",
       "      <td>52.394338</td>\n",
       "      <td>0.0</td>\n",
       "      <td>0.0</td>\n",
       "    </tr>\n",
       "    <tr>\n",
       "      <th>min</th>\n",
       "      <td>1.431238</td>\n",
       "      <td>-24.859423</td>\n",
       "      <td>-89.500000</td>\n",
       "      <td>-0.5</td>\n",
       "      <td>100.0</td>\n",
       "    </tr>\n",
       "    <tr>\n",
       "      <th>25%</th>\n",
       "      <td>16.521238</td>\n",
       "      <td>-8.269423</td>\n",
       "      <td>-44.500000</td>\n",
       "      <td>-0.5</td>\n",
       "      <td>100.0</td>\n",
       "    </tr>\n",
       "    <tr>\n",
       "      <th>50%</th>\n",
       "      <td>20.901237</td>\n",
       "      <td>-5.349424</td>\n",
       "      <td>0.500000</td>\n",
       "      <td>-0.5</td>\n",
       "      <td>100.0</td>\n",
       "    </tr>\n",
       "    <tr>\n",
       "      <th>75%</th>\n",
       "      <td>27.261238</td>\n",
       "      <td>0.030576</td>\n",
       "      <td>45.500000</td>\n",
       "      <td>-0.5</td>\n",
       "      <td>100.0</td>\n",
       "    </tr>\n",
       "    <tr>\n",
       "      <th>max</th>\n",
       "      <td>59.221237</td>\n",
       "      <td>8.220576</td>\n",
       "      <td>90.500000</td>\n",
       "      <td>-0.5</td>\n",
       "      <td>100.0</td>\n",
       "    </tr>\n",
       "  </tbody>\n",
       "</table>\n",
       "</div>"
      ],
      "text/plain": [
       "               Wx          Wy         lat   long  level\n",
       "count  181.000000  181.000000  181.000000  181.0  181.0\n",
       "mean    23.057260   -5.993623    0.500000   -0.5  100.0\n",
       "std     13.899893    9.185682   52.394338    0.0    0.0\n",
       "min      1.431238  -24.859423  -89.500000   -0.5  100.0\n",
       "25%     16.521238   -8.269423  -44.500000   -0.5  100.0\n",
       "50%     20.901237   -5.349424    0.500000   -0.5  100.0\n",
       "75%     27.261238    0.030576   45.500000   -0.5  100.0\n",
       "max     59.221237    8.220576   90.500000   -0.5  100.0"
      ]
     },
     "execution_count": 237,
     "metadata": {},
     "output_type": "execute_result"
    }
   ],
   "source": [
    "DT1.describe()"
   ]
  },
  {
   "cell_type": "markdown",
   "metadata": {},
   "source": [
    "## Latitudes"
   ]
  },
  {
   "cell_type": "code",
   "execution_count": 239,
   "metadata": {},
   "outputs": [],
   "source": [
    "DT = dt\n",
    "DT = DT.where(DT.level == level[0])\n",
    "DT = DT.where(DT.long == long[0])\n",
    "DT = DT.dropna(axis=0, how = 'all')\n",
    "x = DT.Wx"
   ]
  },
  {
   "cell_type": "code",
   "execution_count": 240,
   "metadata": {},
   "outputs": [
    {
     "data": {
      "text/html": [
       "<div>\n",
       "<style scoped>\n",
       "    .dataframe tbody tr th:only-of-type {\n",
       "        vertical-align: middle;\n",
       "    }\n",
       "\n",
       "    .dataframe tbody tr th {\n",
       "        vertical-align: top;\n",
       "    }\n",
       "\n",
       "    .dataframe thead th {\n",
       "        text-align: right;\n",
       "    }\n",
       "</style>\n",
       "<table border=\"1\" class=\"dataframe\">\n",
       "  <thead>\n",
       "    <tr style=\"text-align: right;\">\n",
       "      <th></th>\n",
       "      <th>Wx</th>\n",
       "      <th>Wy</th>\n",
       "      <th>lat</th>\n",
       "      <th>long</th>\n",
       "      <th>level</th>\n",
       "    </tr>\n",
       "  </thead>\n",
       "  <tbody>\n",
       "    <tr>\n",
       "      <th>count</th>\n",
       "      <td>181.000000</td>\n",
       "      <td>181.000000</td>\n",
       "      <td>181.000000</td>\n",
       "      <td>181.0</td>\n",
       "      <td>181.0</td>\n",
       "    </tr>\n",
       "    <tr>\n",
       "      <th>mean</th>\n",
       "      <td>23.057260</td>\n",
       "      <td>-5.993623</td>\n",
       "      <td>0.500000</td>\n",
       "      <td>-0.5</td>\n",
       "      <td>100.0</td>\n",
       "    </tr>\n",
       "    <tr>\n",
       "      <th>std</th>\n",
       "      <td>13.899893</td>\n",
       "      <td>9.185682</td>\n",
       "      <td>52.394338</td>\n",
       "      <td>0.0</td>\n",
       "      <td>0.0</td>\n",
       "    </tr>\n",
       "    <tr>\n",
       "      <th>min</th>\n",
       "      <td>1.431238</td>\n",
       "      <td>-24.859423</td>\n",
       "      <td>-89.500000</td>\n",
       "      <td>-0.5</td>\n",
       "      <td>100.0</td>\n",
       "    </tr>\n",
       "    <tr>\n",
       "      <th>25%</th>\n",
       "      <td>16.521238</td>\n",
       "      <td>-8.269423</td>\n",
       "      <td>-44.500000</td>\n",
       "      <td>-0.5</td>\n",
       "      <td>100.0</td>\n",
       "    </tr>\n",
       "    <tr>\n",
       "      <th>50%</th>\n",
       "      <td>20.901237</td>\n",
       "      <td>-5.349424</td>\n",
       "      <td>0.500000</td>\n",
       "      <td>-0.5</td>\n",
       "      <td>100.0</td>\n",
       "    </tr>\n",
       "    <tr>\n",
       "      <th>75%</th>\n",
       "      <td>27.261238</td>\n",
       "      <td>0.030576</td>\n",
       "      <td>45.500000</td>\n",
       "      <td>-0.5</td>\n",
       "      <td>100.0</td>\n",
       "    </tr>\n",
       "    <tr>\n",
       "      <th>max</th>\n",
       "      <td>59.221237</td>\n",
       "      <td>8.220576</td>\n",
       "      <td>90.500000</td>\n",
       "      <td>-0.5</td>\n",
       "      <td>100.0</td>\n",
       "    </tr>\n",
       "  </tbody>\n",
       "</table>\n",
       "</div>"
      ],
      "text/plain": [
       "               Wx          Wy         lat   long  level\n",
       "count  181.000000  181.000000  181.000000  181.0  181.0\n",
       "mean    23.057260   -5.993623    0.500000   -0.5  100.0\n",
       "std     13.899893    9.185682   52.394338    0.0    0.0\n",
       "min      1.431238  -24.859423  -89.500000   -0.5  100.0\n",
       "25%     16.521238   -8.269423  -44.500000   -0.5  100.0\n",
       "50%     20.901237   -5.349424    0.500000   -0.5  100.0\n",
       "75%     27.261238    0.030576   45.500000   -0.5  100.0\n",
       "max     59.221237    8.220576   90.500000   -0.5  100.0"
      ]
     },
     "execution_count": 240,
     "metadata": {},
     "output_type": "execute_result"
    }
   ],
   "source": [
    "DT.describe()"
   ]
  },
  {
   "cell_type": "code",
   "execution_count": 9,
   "metadata": {},
   "outputs": [
    {
     "data": {
      "image/png": "[encoded data removed]",
      "text/plain": [
       "<matplotlib.figure.Figure at 0xc17d2e8>"
      ]
     },
     "metadata": {},
     "output_type": "display_data"
    },
    {
     "data": {
      "image/png": "[encoded data removed]",
      "text/plain": [
       "<matplotlib.figure.Figure at 0xc17d400>"
      ]
     },
     "metadata": {},
     "output_type": "display_data"
    },
    {
     "name": "stdout",
     "output_type": "stream",
     "text": [
      "Other longitude\n"
     ]
    },
    {
     "data": {
      "image/png": "[encoded data removed]",
      "text/plain": [
       "<matplotlib.figure.Figure at 0x9e628d0>"
      ]
     },
     "metadata": {},
     "output_type": "display_data"
    },
    {
     "data": {
      "image/png": "[encoded data removed]",
      "text/plain": [
       "<matplotlib.figure.Figure at 0x9e62898>"
      ]
     },
     "metadata": {},
     "output_type": "display_data"
    }
   ],
   "source": [
    "DT = dt\n",
    "DT = DT.where(DT.level == level[0])\n",
    "DT = DT.where(DT.long == long[0])\n",
    "DT = DT.dropna(axis=0, how = 'all')\n",
    "x = DT.Wx\n",
    "plot_acf(x)\n",
    "plot_pacf(x, lags = 30)\n",
    "pyplot.show()\n",
    "\n",
    "print('Other longitude')\n",
    "\n",
    "DT1 = dt\n",
    "DT1 = DT.where(DT.level == level[0])\n",
    "DT1 = DT.where(DT.long == long[90])\n",
    "DT1 = DT.dropna(axis=0, how = 'all')\n",
    "DT1.head()\n",
    "x1 = DT1.Wx\n",
    "plot_acf(x1, lags = 30)\n",
    "plot_pacf(x1, lags = 30)\n",
    "pyplot.show()"
   ]
  },
  {
   "cell_type": "markdown",
   "metadata": {},
   "source": [
    "## Levels"
   ]
  },
  {
   "cell_type": "code",
   "execution_count": 34,
   "metadata": {},
   "outputs": [
    {
     "data": {
      "image/png": "[encoded data removed]",
      "text/plain": [
       "<matplotlib.figure.Figure at 0xd915f60>"
      ]
     },
     "metadata": {},
     "output_type": "display_data"
    },
    {
     "data": {
      "image/png": "[encoded data removed]",
      "text/plain": [
       "<matplotlib.figure.Figure at 0xdc1c6d8>"
      ]
     },
     "metadata": {},
     "output_type": "display_data"
    },
    {
     "name": "stdout",
     "output_type": "stream",
     "text": [
      "Other longitude and latitude\n"
     ]
    },
    {
     "data": {
      "image/png": "[encoded data removed]",
      "text/plain": [
       "<matplotlib.figure.Figure at 0xd983198>"
      ]
     },
     "metadata": {},
     "output_type": "display_data"
    },
    {
     "data": {
      "image/png": "[encoded data removed]",
      "text/plain": [
       "<matplotlib.figure.Figure at 0xd9839e8>"
      ]
     },
     "metadata": {},
     "output_type": "display_data"
    }
   ],
   "source": [
    "DT = dt\n",
    "DT = DT.where(DT.lat == lat[0])\n",
    "DT = DT.where(DT.long == long[0])\n",
    "DT = DT.dropna(axis=0, how = 'all')\n",
    "x = DT.Wx\n",
    "plot_acf(x, lags = 30)\n",
    "plot_pacf(x, lags = 30)\n",
    "pyplot.show()\n",
    "\n",
    "print('Other longitude and latitude')\n",
    "\n",
    "DT1 = dt\n",
    "DT1 = DT.where(DT.lat == lat[90])\n",
    "DT1 = DT.where(DT.long == long[90])\n",
    "DT1 = DT.dropna(axis=0, how = 'all')\n",
    "DT1.head()\n",
    "x1 = DT1.Wx\n",
    "plot_acf(x1, lags = 30)\n",
    "plot_pacf(x1, lags = 30)\n",
    "pyplot.show()"
   ]
  },
  {
   "cell_type": "markdown",
   "metadata": {},
   "source": [
    "## Temps"
   ]
  },
  {
   "cell_type": "code",
   "execution_count": 17,
   "metadata": {},
   "outputs": [],
   "source": [
    "file_name = 'Wind' + 'test' + '.hdf'\n",
    "dt1 = pd.read_hdf(file_name, 'Wind_vector')\n",
    "DT = dt1"
   ]
  },
  {
   "cell_type": "code",
   "execution_count": 18,
   "metadata": {},
   "outputs": [
    {
     "data": {
      "text/html": [
       "<div>\n",
       "<style scoped>\n",
       "    .dataframe tbody tr th:only-of-type {\n",
       "        vertical-align: middle;\n",
       "    }\n",
       "\n",
       "    .dataframe tbody tr th {\n",
       "        vertical-align: top;\n",
       "    }\n",
       "\n",
       "    .dataframe thead th {\n",
       "        text-align: right;\n",
       "    }\n",
       "</style>\n",
       "<table border=\"1\" class=\"dataframe\">\n",
       "  <thead>\n",
       "    <tr style=\"text-align: right;\">\n",
       "      <th></th>\n",
       "      <th>Wx</th>\n",
       "      <th>Wy</th>\n",
       "      <th>lat</th>\n",
       "      <th>long</th>\n",
       "      <th>level</th>\n",
       "      <th>hour</th>\n",
       "      <th>day</th>\n",
       "    </tr>\n",
       "  </thead>\n",
       "  <tbody>\n",
       "    <tr>\n",
       "      <th>count</th>\n",
       "      <td>60760.000000</td>\n",
       "      <td>60760.000000</td>\n",
       "      <td>60760.000000</td>\n",
       "      <td>60760.000000</td>\n",
       "      <td>60760.000000</td>\n",
       "      <td>60760.000000</td>\n",
       "      <td>60760.000000</td>\n",
       "    </tr>\n",
       "    <tr>\n",
       "      <th>mean</th>\n",
       "      <td>6.378601</td>\n",
       "      <td>4.150546</td>\n",
       "      <td>51.500000</td>\n",
       "      <td>2.000000</td>\n",
       "      <td>40477.419355</td>\n",
       "      <td>9.642857</td>\n",
       "      <td>14.285714</td>\n",
       "    </tr>\n",
       "    <tr>\n",
       "      <th>std</th>\n",
       "      <td>7.187043</td>\n",
       "      <td>6.489197</td>\n",
       "      <td>2.000016</td>\n",
       "      <td>2.872305</td>\n",
       "      <td>35508.271403</td>\n",
       "      <td>6.820269</td>\n",
       "      <td>1.030166</td>\n",
       "    </tr>\n",
       "    <tr>\n",
       "      <th>min</th>\n",
       "      <td>-32.369953</td>\n",
       "      <td>-36.755566</td>\n",
       "      <td>48.500000</td>\n",
       "      <td>-2.500000</td>\n",
       "      <td>100.000000</td>\n",
       "      <td>0.000000</td>\n",
       "      <td>13.000000</td>\n",
       "    </tr>\n",
       "    <tr>\n",
       "      <th>25%</th>\n",
       "      <td>2.152198</td>\n",
       "      <td>-0.120786</td>\n",
       "      <td>49.500000</td>\n",
       "      <td>-0.500000</td>\n",
       "      <td>3000.000000</td>\n",
       "      <td>3.000000</td>\n",
       "      <td>13.000000</td>\n",
       "    </tr>\n",
       "    <tr>\n",
       "      <th>50%</th>\n",
       "      <td>5.141594</td>\n",
       "      <td>3.976193</td>\n",
       "      <td>51.500000</td>\n",
       "      <td>2.000000</td>\n",
       "      <td>35000.000000</td>\n",
       "      <td>9.000000</td>\n",
       "      <td>14.000000</td>\n",
       "    </tr>\n",
       "    <tr>\n",
       "      <th>75%</th>\n",
       "      <td>10.823278</td>\n",
       "      <td>7.538276</td>\n",
       "      <td>53.500000</td>\n",
       "      <td>4.500000</td>\n",
       "      <td>75000.000000</td>\n",
       "      <td>15.000000</td>\n",
       "      <td>15.000000</td>\n",
       "    </tr>\n",
       "    <tr>\n",
       "      <th>max</th>\n",
       "      <td>39.600105</td>\n",
       "      <td>41.174206</td>\n",
       "      <td>54.500000</td>\n",
       "      <td>6.500000</td>\n",
       "      <td>100000.000000</td>\n",
       "      <td>21.000000</td>\n",
       "      <td>16.000000</td>\n",
       "    </tr>\n",
       "  </tbody>\n",
       "</table>\n",
       "</div>"
      ],
      "text/plain": [
       "                 Wx            Wy           lat          long          level  \\\n",
       "count  60760.000000  60760.000000  60760.000000  60760.000000   60760.000000   \n",
       "mean       6.378601      4.150546     51.500000      2.000000   40477.419355   \n",
       "std        7.187043      6.489197      2.000016      2.872305   35508.271403   \n",
       "min      -32.369953    -36.755566     48.500000     -2.500000     100.000000   \n",
       "25%        2.152198     -0.120786     49.500000     -0.500000    3000.000000   \n",
       "50%        5.141594      3.976193     51.500000      2.000000   35000.000000   \n",
       "75%       10.823278      7.538276     53.500000      4.500000   75000.000000   \n",
       "max       39.600105     41.174206     54.500000      6.500000  100000.000000   \n",
       "\n",
       "               hour           day  \n",
       "count  60760.000000  60760.000000  \n",
       "mean       9.642857     14.285714  \n",
       "std        6.820269      1.030166  \n",
       "min        0.000000     13.000000  \n",
       "25%        3.000000     13.000000  \n",
       "50%        9.000000     14.000000  \n",
       "75%       15.000000     15.000000  \n",
       "max       21.000000     16.000000  "
      ]
     },
     "execution_count": 18,
     "metadata": {},
     "output_type": "execute_result"
    }
   ],
   "source": [
    "dt1.describe()"
   ]
  },
  {
   "cell_type": "code",
   "execution_count": 19,
   "metadata": {},
   "outputs": [
    {
     "data": {
      "text/html": [
       "<div>\n",
       "<style scoped>\n",
       "    .dataframe tbody tr th:only-of-type {\n",
       "        vertical-align: middle;\n",
       "    }\n",
       "\n",
       "    .dataframe tbody tr th {\n",
       "        vertical-align: top;\n",
       "    }\n",
       "\n",
       "    .dataframe thead th {\n",
       "        text-align: right;\n",
       "    }\n",
       "</style>\n",
       "<table border=\"1\" class=\"dataframe\">\n",
       "  <thead>\n",
       "    <tr style=\"text-align: right;\">\n",
       "      <th></th>\n",
       "      <th>Wx</th>\n",
       "      <th>Wy</th>\n",
       "      <th>lat</th>\n",
       "      <th>long</th>\n",
       "      <th>level</th>\n",
       "      <th>hour</th>\n",
       "      <th>day</th>\n",
       "    </tr>\n",
       "  </thead>\n",
       "  <tbody>\n",
       "    <tr>\n",
       "      <th>Wx</th>\n",
       "      <td>1.000000</td>\n",
       "      <td>-0.195322</td>\n",
       "      <td>-1.438108e-01</td>\n",
       "      <td>3.409263e-03</td>\n",
       "      <td>-3.644561e-01</td>\n",
       "      <td>1.148219e-01</td>\n",
       "      <td>2.389893e-01</td>\n",
       "    </tr>\n",
       "    <tr>\n",
       "      <th>Wy</th>\n",
       "      <td>-0.195322</td>\n",
       "      <td>1.000000</td>\n",
       "      <td>2.555787e-02</td>\n",
       "      <td>2.402599e-02</td>\n",
       "      <td>2.469332e-01</td>\n",
       "      <td>2.661340e-02</td>\n",
       "      <td>2.917791e-02</td>\n",
       "    </tr>\n",
       "    <tr>\n",
       "      <th>lat</th>\n",
       "      <td>-0.143811</td>\n",
       "      <td>0.025558</td>\n",
       "      <td>1.000000e+00</td>\n",
       "      <td>0.000000e+00</td>\n",
       "      <td>-5.989484e-18</td>\n",
       "      <td>-3.857954e-19</td>\n",
       "      <td>-1.702786e-19</td>\n",
       "    </tr>\n",
       "    <tr>\n",
       "      <th>long</th>\n",
       "      <td>0.003409</td>\n",
       "      <td>0.024026</td>\n",
       "      <td>0.000000e+00</td>\n",
       "      <td>1.000000e+00</td>\n",
       "      <td>-4.696555e-21</td>\n",
       "      <td>-1.492408e-21</td>\n",
       "      <td>0.000000e+00</td>\n",
       "    </tr>\n",
       "    <tr>\n",
       "      <th>level</th>\n",
       "      <td>-0.364456</td>\n",
       "      <td>0.246933</td>\n",
       "      <td>-5.989484e-18</td>\n",
       "      <td>-4.696555e-21</td>\n",
       "      <td>1.000000e+00</td>\n",
       "      <td>-1.931042e-16</td>\n",
       "      <td>-1.368589e-15</td>\n",
       "    </tr>\n",
       "    <tr>\n",
       "      <th>hour</th>\n",
       "      <td>0.114822</td>\n",
       "      <td>0.026613</td>\n",
       "      <td>-3.857954e-19</td>\n",
       "      <td>-1.492408e-21</td>\n",
       "      <td>-1.931042e-16</td>\n",
       "      <td>1.000000e+00</td>\n",
       "      <td>-2.091389e-01</td>\n",
       "    </tr>\n",
       "    <tr>\n",
       "      <th>day</th>\n",
       "      <td>0.238989</td>\n",
       "      <td>0.029178</td>\n",
       "      <td>-1.702786e-19</td>\n",
       "      <td>0.000000e+00</td>\n",
       "      <td>-1.368589e-15</td>\n",
       "      <td>-2.091389e-01</td>\n",
       "      <td>1.000000e+00</td>\n",
       "    </tr>\n",
       "  </tbody>\n",
       "</table>\n",
       "</div>"
      ],
      "text/plain": [
       "             Wx        Wy           lat          long         level  \\\n",
       "Wx     1.000000 -0.195322 -1.438108e-01  3.409263e-03 -3.644561e-01   \n",
       "Wy    -0.195322  1.000000  2.555787e-02  2.402599e-02  2.469332e-01   \n",
       "lat   -0.143811  0.025558  1.000000e+00  0.000000e+00 -5.989484e-18   \n",
       "long   0.003409  0.024026  0.000000e+00  1.000000e+00 -4.696555e-21   \n",
       "level -0.364456  0.246933 -5.989484e-18 -4.696555e-21  1.000000e+00   \n",
       "hour   0.114822  0.026613 -3.857954e-19 -1.492408e-21 -1.931042e-16   \n",
       "day    0.238989  0.029178 -1.702786e-19  0.000000e+00 -1.368589e-15   \n",
       "\n",
       "               hour           day  \n",
       "Wx     1.148219e-01  2.389893e-01  \n",
       "Wy     2.661340e-02  2.917791e-02  \n",
       "lat   -3.857954e-19 -1.702786e-19  \n",
       "long  -1.492408e-21  0.000000e+00  \n",
       "level -1.931042e-16 -1.368589e-15  \n",
       "hour   1.000000e+00 -2.091389e-01  \n",
       "day   -2.091389e-01  1.000000e+00  "
      ]
     },
     "execution_count": 19,
     "metadata": {},
     "output_type": "execute_result"
    }
   ],
   "source": [
    "dt1.corr()"
   ]
  },
  {
   "cell_type": "code",
   "execution_count": 20,
   "metadata": {},
   "outputs": [],
   "source": [
    "long1 = dt1.long.unique()\n",
    "lat1 = dt1.lat.unique()\n",
    "level1 = dt1.level.unique()\n",
    "#print('longitudes:', long1)\n",
    "#print('latitudes:', lat1)\n",
    "#print('levels',level1)"
   ]
  },
  {
   "cell_type": "code",
   "execution_count": 21,
   "metadata": {},
   "outputs": [
    {
     "data": {
      "image/png": "[encoded data removed]",
      "text/plain": [
       "<matplotlib.figure.Figure at 0x9dea860>"
      ]
     },
     "metadata": {},
     "output_type": "display_data"
    },
    {
     "data": {
      "image/png": "[encoded data removed]",
      "text/plain": [
       "<matplotlib.figure.Figure at 0xc17df98>"
      ]
     },
     "metadata": {},
     "output_type": "display_data"
    },
    {
     "name": "stdout",
     "output_type": "stream",
     "text": [
      "Other longitude and latitude\n"
     ]
    },
    {
     "data": {
      "image/png": "[encoded data removed]",
      "text/plain": [
       "<matplotlib.figure.Figure at 0xbe133c8>"
      ]
     },
     "metadata": {},
     "output_type": "display_data"
    },
    {
     "data": {
      "image/png": "[encoded data removed]",
      "text/plain": [
       "<matplotlib.figure.Figure at 0x9e44e48>"
      ]
     },
     "metadata": {},
     "output_type": "display_data"
    }
   ],
   "source": [
    "DT = dt1\n",
    "DT = DT.where(DT.lat == lat1[0])\n",
    "DT = DT.where(DT.long == long1[0])\n",
    "DT = DT.where(DT.level == level1[0])\n",
    "DT = DT.dropna(axis=0, how = 'all')\n",
    "x = DT.Wx\n",
    "#DT.head()\n",
    "plot_acf(x)\n",
    "plot_pacf(x)\n",
    "pyplot.show()\n",
    "\n",
    "\n",
    "print('Other longitude and latitude')\n",
    "\n",
    "DT1 = dt1\n",
    "DT1 = DT.where(DT.lat == lat[3])\n",
    "DT1 = DT.where(DT.long == long[3])\n",
    "DT1 = DT.dropna(axis=0, how = 'all')\n",
    "DT1.head()\n",
    "x1 = DT1.Wx\n",
    "plot_acf(x1)\n",
    "plot_pacf(x1)\n",
    "pyplot.show()"
   ]
  },
  {
   "cell_type": "code",
   "execution_count": null,
   "metadata": {},
   "outputs": [],
   "source": []
  }
 ],
 "metadata": {
  "kernelspec": {
   "display_name": "Python 3",
   "language": "python",
   "name": "python3"
  },
  "language_info": {
   "codemirror_mode": {
    "name": "ipython",
    "version": 3
   },
   "file_extension": ".py",
   "mimetype": "text/x-python",
   "name": "python",
   "nbconvert_exporter": "python",
   "pygments_lexer": "ipython3",
   "version": "3.6.4"
  }
 },
 "nbformat": 4,
 "nbformat_minor": 2
}
