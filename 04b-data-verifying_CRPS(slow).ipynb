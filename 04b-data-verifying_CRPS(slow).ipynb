{
 "cells": [
  {
   "cell_type": "markdown",
   "metadata": {},
   "source": [
    "# Importing modules"
   ]
  },
  {
   "cell_type": "code",
   "execution_count": 1,
   "metadata": {},
   "outputs": [
    {
     "name": "stderr",
     "output_type": "stream",
     "text": [
      "C:\\Users\\SERRA_R\\AppData\\Local\\Continum\\anaconda3\\lib\\site-packages\\statsmodels\\compat\\pandas.py:56: FutureWarning: The pandas.core.datetools module is deprecated and will be removed in a future version. Please use the pandas.tseries module instead.\n",
      "  from pandas.core import datetools\n"
     ]
    },
    {
     "data": {
      "text/plain": [
       "<matplotlib.figure.Figure at 0x289ea5137b8>"
      ]
     },
     "execution_count": 1,
     "metadata": {},
     "output_type": "execute_result"
    },
    {
     "data": {
      "text/plain": [
       "<matplotlib.figure.Figure at 0x289ea5137b8>"
      ]
     },
     "metadata": {},
     "output_type": "display_data"
    }
   ],
   "source": [
    "import pandas as pd\n",
    "import numpy as np\n",
    "import time\n",
    "import warnings\n",
    "import itertools\n",
    "from scipy import stats as st\n",
    "import statsmodels as sm\n",
    "import statsmodels.api as sma\n",
    "import matplotlib.pyplot as plt\n",
    "plt.style.use('fivethirtyeight')\n",
    "import h5py\n",
    "from statsmodels.distributions.empirical_distribution import ECDF\n",
    "from scipy.stats.kde import gaussian_kde\n",
    "from scipy.stats import norm\n",
    "import statisticalTools as sT\n",
    "from sklearn.neighbors.kde import KernelDensity\n",
    "import properscoring as ps\n",
    "warnings.filterwarnings(\"ignore\")\n",
    "\n",
    "%matplotlib inline \n",
    "#%matplotlib \n",
    "plt.figure(figsize=(15, 6))"
   ]
  },
  {
   "cell_type": "markdown",
   "metadata": {},
   "source": [
    "# Reading data and extracting information"
   ]
  },
  {
   "cell_type": "code",
   "execution_count": 3,
   "metadata": {},
   "outputs": [],
   "source": [
    "#Read data\n",
    "file_name = 'data/GENS_test_AllLevels3'+'.hdf'\n",
    "dt = pd.read_hdf(file_name, 'Wind_vector')\n",
    "#Sort the dataset in function of date\n",
    "dt = dt.set_index('Timestamp')\n",
    "dt = dt.sort_index()"
   ]
  },
  {
   "cell_type": "code",
   "execution_count": 4,
   "metadata": {},
   "outputs": [],
   "source": [
    "#Read data\n",
    "file_name = 'data/gens-a_3'+'.hdf'\n",
    "DT = pd.read_hdf(file_name, 'Wind_vector')\n",
    "DT = DT.set_index('Timestamp')\n",
    "DT = DT.sort_index()"
   ]
  },
  {
   "cell_type": "code",
   "execution_count": null,
   "metadata": {},
   "outputs": [],
   "source": [
    "#Selects the time steps presents on both datasets.\n",
    "ind0 = dt.index.unique()\n",
    "ind1 = DT.index.unique()\n",
    "ind = set(ind0) & set(ind1)\n",
    "\n",
    "dtt = dt.loc[ind]\n",
    "DTT = DT.loc[ind]\n",
    "\n",
    "dtc = dtt.where(dtt.Forecast == '000').where(dtt.NForecast == 999).dropna(how='all') #Observation - Most probable forecast\n",
    "dtd = dtt.where(dtt.Forecast == '006').where(dtt.NForecast == 999).dropna(how='all') #Forecast - Most probable forecast"
   ]
  },
  {
   "cell_type": "code",
   "execution_count": null,
   "metadata": {},
   "outputs": [],
   "source": [
    "#Selects the latitude, longitudes and levels steps presents on both datasets.\n",
    "lats0 = dtt.where(dtt.NForecast == 999).dropna(how = 'all').lat.unique()\n",
    "longs0 = dtt.where(dtt.NForecast == 999).dropna(how = 'all').long.unique()\n",
    "levels0 = dtt.where(dtt.NForecast == 999).dropna(how = 'all').level.unique()\n",
    "\n",
    "lats1 = DTT.lat.unique()\n",
    "longs1 = DTT.long.unique()\n",
    "levels1 = DTT.level.unique()\n",
    "\n",
    "lats = list(set(lats0) & set(lats1))\n",
    "longs = list(set(longs0) & set(longs1))\n",
    "levels = list(set(levels0) & set(levels1))\n",
    "\n",
    "#shows the latitudes, longitudes and levels presents in both datasets\n",
    "print(lats)\n",
    "print(longs)\n",
    "print(levels)"
   ]
  },
  {
   "cell_type": "code",
   "execution_count": null,
   "metadata": {},
   "outputs": [],
   "source": [
    "#Selecting data to compare\n",
    "\n",
    "dx = dt\n",
    "dt = dtt\n",
    "dt = dt.sort_index()\n",
    "dt = dt.where(dt.Forecast == '000')\n",
    "dt = dt.where(dt.NForecast == 999)\n",
    "dy = dt.dropna()\n",
    "#dt = dt.ix[dt.index[1]]\n",
    "\n",
    "dt = dtt\n",
    "dt = dt.sort_index()\n",
    "dt = dt.where(dt.Forecast == '006')\n",
    "dt = dt.where(dt.NForecast == 999)\n",
    "dyf = dt.dropna()\n",
    "\n",
    "dt = dx"
   ]
  },
  {
   "cell_type": "code",
   "execution_count": null,
   "metadata": {},
   "outputs": [],
   "source": [
    "\n",
    "oi = 0\n",
    "\n",
    "dfp = DTT\n",
    "dyp = dy\n",
    "dyfp = dyf\n",
    "\n",
    "dfp = dfp.where(dfp.lat == lats[oi] )\n",
    "dfp = dfp.where(dfp.long == longs[oi] )\n",
    "dfp = dfp.where(dfp.level == levels[oi] )\n",
    "dfp = dfp.dropna(how = 'all')\n",
    "\n",
    "dyp = dyp.where(dyp.lat == lats[oi] )\n",
    "dyp = dyp.where(dyp.long == longs[oi]) \n",
    "dyp = dyp.where(dyp.level == levels[oi]) \n",
    "dyp = dyp.dropna(how='all')\n",
    "\n",
    "dyfp = dyfp.where(dyfp.lat == lats[oi]) \n",
    "dyfp = dyfp.where(dyfp.long == longs[oi]) \n",
    "dyfp = dyfp.where(dyfp.level == levels[oi]) \n",
    "dyfp = dyfp.dropna(how='all')"
   ]
  },
  {
   "cell_type": "markdown",
   "metadata": {},
   "source": [
    "# Verify results using punctual metric"
   ]
  },
  {
   "cell_type": "code",
   "execution_count": null,
   "metadata": {},
   "outputs": [],
   "source": [
    "#defining variables and parameters\n",
    "count_loop = 0\n",
    "\n",
    "param = 'Wy'\n",
    "\n",
    "my_para = []\n",
    "my_para0 = []\n",
    "count_loop = 0\n",
    "Result = []\n",
    "Result0 = []\n",
    "Result1 = []\n",
    "Result2 = []\n",
    "\n",
    "ind0 = dtc.index.unique()\n",
    "ind1 = DTT.index.unique()\n",
    "ind = set(ind0) & set(ind1)\n",
    "\n",
    "dtc = dtc.loc[ind]\n",
    "DTT = DTT.loc[ind]\n",
    "dtd = dtd.loc[ind]\n",
    "\n",
    "lats = DTT.lat.unique()\n",
    "longs = DTT.long.unique()\n",
    "levels = DTT.level.unique()\n",
    "\n",
    "#if one wants to test fast if it works\n",
    "#levels = levels[6]\n",
    "#lats = lats[0:1]\n",
    "#longs = longs[0:1]"
   ]
  },
  {
   "cell_type": "code",
   "execution_count": null,
   "metadata": {},
   "outputs": [],
   "source": [
    "\n",
    "t_t = time.time()\n",
    "for i in levels:\n",
    "    count_loop += 1\n",
    "    print(count_loop,'of',len(levels), end = ' ||| ')\n",
    "    for j in range(len(lats)):\n",
    "        for k in range(len(longs)):\n",
    "            temp = dtc.where(dtc.level == i)\n",
    "            temp = temp.where(temp.lat == lats[j]).where(temp.long == longs[k]).dropna(how='all')\n",
    "                \n",
    "            temp0 = DTT.where(DTT.level == i)\n",
    "            temp0 = temp0.where(temp0.lat == lats[j]).where(temp0.long == longs[k]).dropna(how='all')\n",
    "            \n",
    "            temp1 = dtd.where(dtd.level == i)\n",
    "            temp1 = temp1.where(temp1.lat == lats[j]).where(temp1.long == longs[k]).dropna(how='all')\n",
    "            \n",
    "            for timer in ind:\n",
    "                try:\n",
    "                    Obs = temp.loc[timer]\n",
    "                    Nforc = temp0.loc[timer]\n",
    "                    ONEforc = temp1.loc[timer]\n",
    "\n",
    "                    #param = 'Wy'\n",
    "                    nforc = Nforc[param]\n",
    "                    nforc = nforc[1:]\n",
    "                    oneforc = ONEforc[param]\n",
    "                    obs = Obs[param]               \n",
    "                    nforc = np.array(sorted(nforc))\n",
    "                    #obs = np.ones([len(nforc)])*obs\n",
    "\n",
    "                    #Ensemble Forecast\n",
    "                    Result += [ps.crps_ensemble(obs, nforc)]\n",
    "                    \n",
    "                    #Gaussian\n",
    "                    mu, sigma = norm.fit(nforc)\n",
    "                    Result0 += [ps.crps_gaussian(obs, mu=mu, sig=sigma)]\n",
    "                    #Gaussian 1\n",
    "                    Result2 += [ps.crps_gaussian(obs, mu=oneforc, sig=sigma)]\n",
    "                    #KDE\n",
    "                    KDEpdf = gaussian_kde(nforc)\n",
    "                    xmean = np.abs(np.mean(nforc))\n",
    "                    xmin = np.min(nforc)-.2*xmean\n",
    "                    xmax = np.max(nforc)+.2*xmean\n",
    "                    x = np.linspace(xmin,xmax,1000)\n",
    "                    Result1 += [ps.crps_ensemble(obs, x, KDEpdf(x))]\n",
    "\n",
    "                    \n",
    "                    sizet += 1\n",
    "                except:\n",
    "                    a = 0\n",
    "                    #print('one error')\n",
    "            #print(str(time.time()-t_t)+ \" have passed since the start of the calcul.\")  \n",
    "    print(str( (time.time()-t_t)*(len(levels)-count_loop)/count_loop)+ \"s to finish\")  \n",
    "print(str(time.time()-t_t)+ \" seconds to calculate\")            \n",
    "\n",
    "CPRS_mean = np.mean(Result)\n",
    "CPRS_mean0 = np.mean(Result0)\n",
    "CPRS_mean1 = np.mean(Result1)\n",
    "CPRS_mean2 = np.mean(Result2)\n",
    "\n",
    "CPRS_sum = np.sum(Result)\n",
    "CPRS_sum0 = np.sum(Result0)\n",
    "CPRS_sum1 = np.sum(Result1)\n",
    "CPRS_sum2 = np.sum(Result2)\n",
    "\n",
    "print('CPRS_mean Ensemble forecast:',CPRS_mean)\n",
    "print('CPRS_mean Gaussian:',CPRS_mean0)\n",
    "print('CPRS_mean KDE:',CPRS_mean1)\n",
    "print('CPRS_mean Gaussian 1:',CPRS_mean2)\n",
    "\n",
    "print('')\n",
    "\n",
    "print('CPRS_sum Ensemble forecast:',CPRS_sum)\n",
    "print('CPRS_sum Gaussian:',CPRS_sum0)\n",
    "print('CPRS_sum KDE:',CPRS_sum1)"
   ]
  }
 ],
 "metadata": {
  "kernelspec": {
   "display_name": "Python 3",
   "language": "python",
   "name": "python3"
  },
  "language_info": {
   "codemirror_mode": {
    "name": "ipython",
    "version": 3
   },
   "file_extension": ".py",
   "mimetype": "text/x-python",
   "name": "python",
   "nbconvert_exporter": "python",
   "pygments_lexer": "ipython3",
   "version": "3.6.4"
  }
 },
 "nbformat": 4,
 "nbformat_minor": 2
}
